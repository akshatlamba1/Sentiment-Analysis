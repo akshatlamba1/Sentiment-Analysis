{
 "cells": [
  {
   "cell_type": "markdown",
   "id": "a248326a",
   "metadata": {},
   "source": [
    "Movie Review Sentiment Analysis"
   ]
  },
  {
   "cell_type": "code",
   "execution_count": 77,
   "id": "5549db25",
   "metadata": {},
   "outputs": [],
   "source": [
    "# 0.Import necessary libraries\n",
    "import numpy as np\n",
    "import pandas as pd\n",
    "import tensorflow\n",
    "import sklearn\n",
    "import keras"
   ]
  },
  {
   "cell_type": "markdown",
   "id": "097850ad",
   "metadata": {},
   "source": [
    "1. Load Data"
   ]
  },
  {
   "cell_type": "code",
   "execution_count": 78,
   "id": "70c2a4bf",
   "metadata": {},
   "outputs": [],
   "source": [
    "data_1 = pd.read_csv(\"rotten_tomatoes_movie_reviews.csv\")\n",
    "data_2 = pd.read_csv(\"rotten_tomatoes_movies.csv\")"
   ]
  },
  {
   "cell_type": "markdown",
   "id": "ba247e42",
   "metadata": {},
   "source": [
    "2. EDA"
   ]
  },
  {
   "cell_type": "code",
   "execution_count": 79,
   "id": "fae338d5",
   "metadata": {},
   "outputs": [
    {
     "data": {
      "text/html": [
       "<div>\n",
       "<style scoped>\n",
       "    .dataframe tbody tr th:only-of-type {\n",
       "        vertical-align: middle;\n",
       "    }\n",
       "\n",
       "    .dataframe tbody tr th {\n",
       "        vertical-align: top;\n",
       "    }\n",
       "\n",
       "    .dataframe thead th {\n",
       "        text-align: right;\n",
       "    }\n",
       "</style>\n",
       "<table border=\"1\" class=\"dataframe\">\n",
       "  <thead>\n",
       "    <tr style=\"text-align: right;\">\n",
       "      <th></th>\n",
       "      <th>id</th>\n",
       "      <th>reviewId</th>\n",
       "      <th>creationDate</th>\n",
       "      <th>criticName</th>\n",
       "      <th>isTopCritic</th>\n",
       "      <th>originalScore</th>\n",
       "      <th>reviewState</th>\n",
       "      <th>publicatioName</th>\n",
       "      <th>reviewText</th>\n",
       "      <th>scoreSentiment</th>\n",
       "      <th>reviewUrl</th>\n",
       "    </tr>\n",
       "  </thead>\n",
       "  <tbody>\n",
       "    <tr>\n",
       "      <th>0</th>\n",
       "      <td>beavers</td>\n",
       "      <td>1145982</td>\n",
       "      <td>2003-05-23</td>\n",
       "      <td>Ivan M. Lincoln</td>\n",
       "      <td>False</td>\n",
       "      <td>3.5/4</td>\n",
       "      <td>fresh</td>\n",
       "      <td>Deseret News (Salt Lake City)</td>\n",
       "      <td>Timed to be just long enough for most youngste...</td>\n",
       "      <td>POSITIVE</td>\n",
       "      <td>http://www.deseretnews.com/article/700003233/B...</td>\n",
       "    </tr>\n",
       "    <tr>\n",
       "      <th>1</th>\n",
       "      <td>blood_mask</td>\n",
       "      <td>1636744</td>\n",
       "      <td>2007-06-02</td>\n",
       "      <td>The Foywonder</td>\n",
       "      <td>False</td>\n",
       "      <td>1/5</td>\n",
       "      <td>rotten</td>\n",
       "      <td>Dread Central</td>\n",
       "      <td>It doesn't matter if a movie costs 300 million...</td>\n",
       "      <td>NEGATIVE</td>\n",
       "      <td>http://www.dreadcentral.com/index.php?name=Rev...</td>\n",
       "    </tr>\n",
       "    <tr>\n",
       "      <th>2</th>\n",
       "      <td>city_hunter_shinjuku_private_eyes</td>\n",
       "      <td>2590987</td>\n",
       "      <td>2019-05-28</td>\n",
       "      <td>Reuben Baron</td>\n",
       "      <td>False</td>\n",
       "      <td>NaN</td>\n",
       "      <td>fresh</td>\n",
       "      <td>CBR</td>\n",
       "      <td>The choreography is so precise and lifelike at...</td>\n",
       "      <td>POSITIVE</td>\n",
       "      <td>https://www.cbr.com/city-hunter-shinjuku-priva...</td>\n",
       "    </tr>\n",
       "    <tr>\n",
       "      <th>3</th>\n",
       "      <td>city_hunter_shinjuku_private_eyes</td>\n",
       "      <td>2558908</td>\n",
       "      <td>2019-02-14</td>\n",
       "      <td>Matt Schley</td>\n",
       "      <td>False</td>\n",
       "      <td>2.5/5</td>\n",
       "      <td>rotten</td>\n",
       "      <td>Japan Times</td>\n",
       "      <td>The film's out-of-touch attempts at humor may ...</td>\n",
       "      <td>NEGATIVE</td>\n",
       "      <td>https://www.japantimes.co.jp/culture/2019/02/0...</td>\n",
       "    </tr>\n",
       "    <tr>\n",
       "      <th>4</th>\n",
       "      <td>dangerous_men_2015</td>\n",
       "      <td>2504681</td>\n",
       "      <td>2018-08-29</td>\n",
       "      <td>Pat Padua</td>\n",
       "      <td>False</td>\n",
       "      <td>NaN</td>\n",
       "      <td>fresh</td>\n",
       "      <td>DCist</td>\n",
       "      <td>Its clumsy determination is endearing and some...</td>\n",
       "      <td>POSITIVE</td>\n",
       "      <td>http://dcist.com/2015/11/out_of_frame_dangerou...</td>\n",
       "    </tr>\n",
       "  </tbody>\n",
       "</table>\n",
       "</div>"
      ],
      "text/plain": [
       "                                  id  reviewId creationDate       criticName  \\\n",
       "0                            beavers   1145982   2003-05-23  Ivan M. Lincoln   \n",
       "1                         blood_mask   1636744   2007-06-02    The Foywonder   \n",
       "2  city_hunter_shinjuku_private_eyes   2590987   2019-05-28     Reuben Baron   \n",
       "3  city_hunter_shinjuku_private_eyes   2558908   2019-02-14      Matt Schley   \n",
       "4                 dangerous_men_2015   2504681   2018-08-29        Pat Padua   \n",
       "\n",
       "   isTopCritic originalScore reviewState                 publicatioName  \\\n",
       "0        False         3.5/4       fresh  Deseret News (Salt Lake City)   \n",
       "1        False           1/5      rotten                  Dread Central   \n",
       "2        False           NaN       fresh                            CBR   \n",
       "3        False         2.5/5      rotten                    Japan Times   \n",
       "4        False           NaN       fresh                          DCist   \n",
       "\n",
       "                                          reviewText scoreSentiment  \\\n",
       "0  Timed to be just long enough for most youngste...       POSITIVE   \n",
       "1  It doesn't matter if a movie costs 300 million...       NEGATIVE   \n",
       "2  The choreography is so precise and lifelike at...       POSITIVE   \n",
       "3  The film's out-of-touch attempts at humor may ...       NEGATIVE   \n",
       "4  Its clumsy determination is endearing and some...       POSITIVE   \n",
       "\n",
       "                                           reviewUrl  \n",
       "0  http://www.deseretnews.com/article/700003233/B...  \n",
       "1  http://www.dreadcentral.com/index.php?name=Rev...  \n",
       "2  https://www.cbr.com/city-hunter-shinjuku-priva...  \n",
       "3  https://www.japantimes.co.jp/culture/2019/02/0...  \n",
       "4  http://dcist.com/2015/11/out_of_frame_dangerou...  "
      ]
     },
     "execution_count": 79,
     "metadata": {},
     "output_type": "execute_result"
    }
   ],
   "source": [
    "data_1.head()"
   ]
  },
  {
   "cell_type": "code",
   "execution_count": 80,
   "id": "e1401b95",
   "metadata": {},
   "outputs": [
    {
     "data": {
      "text/plain": [
       "<bound method DataFrame.info of                                         id   reviewId creationDate  \\\n",
       "0                                  beavers    1145982   2003-05-23   \n",
       "1                               blood_mask    1636744   2007-06-02   \n",
       "2        city_hunter_shinjuku_private_eyes    2590987   2019-05-28   \n",
       "3        city_hunter_shinjuku_private_eyes    2558908   2019-02-14   \n",
       "4                       dangerous_men_2015    2504681   2018-08-29   \n",
       "...                                    ...        ...          ...   \n",
       "1444958              thor_love_and_thunder  102706151   2022-07-05   \n",
       "1444959              thor_love_and_thunder  102706150   2022-07-05   \n",
       "1444960              thor_love_and_thunder  102706149   2022-07-05   \n",
       "1444961              thor_love_and_thunder  102706148   2022-07-05   \n",
       "1444962              thor_love_and_thunder  102706147   2022-07-05   \n",
       "\n",
       "              criticName  isTopCritic originalScore reviewState  \\\n",
       "0        Ivan M. Lincoln        False         3.5/4       fresh   \n",
       "1          The Foywonder        False           1/5      rotten   \n",
       "2           Reuben Baron        False           NaN       fresh   \n",
       "3            Matt Schley        False         2.5/5      rotten   \n",
       "4              Pat Padua        False           NaN       fresh   \n",
       "...                  ...          ...           ...         ...   \n",
       "1444958  Christie Cronan        False          7/10       fresh   \n",
       "1444959     Ian Sandwell        False           4/5       fresh   \n",
       "1444960   Lauren LaMagna        False          8/10       fresh   \n",
       "1444961        Jake Cole         True           1/4      rotten   \n",
       "1444962      Roger Moore        False         2.5/4       fresh   \n",
       "\n",
       "                        publicatioName  \\\n",
       "0        Deseret News (Salt Lake City)   \n",
       "1                        Dread Central   \n",
       "2                                  CBR   \n",
       "3                          Japan Times   \n",
       "4                                DCist   \n",
       "...                                ...   \n",
       "1444958               Raising Whasians   \n",
       "1444959                    Digital Spy   \n",
       "1444960              Next Best Picture   \n",
       "1444961                 Slant Magazine   \n",
       "1444962                   Movie Nation   \n",
       "\n",
       "                                                reviewText scoreSentiment  \\\n",
       "0        Timed to be just long enough for most youngste...       POSITIVE   \n",
       "1        It doesn't matter if a movie costs 300 million...       NEGATIVE   \n",
       "2        The choreography is so precise and lifelike at...       POSITIVE   \n",
       "3        The film's out-of-touch attempts at humor may ...       NEGATIVE   \n",
       "4        Its clumsy determination is endearing and some...       POSITIVE   \n",
       "...                                                    ...            ...   \n",
       "1444958  Solid but not totally sold&#44; Thor&#58; Ragn...       POSITIVE   \n",
       "1444959  Thor&#58; Love and Thunder is the most enterta...       POSITIVE   \n",
       "1444960  &quot;Thor&#58; Love and Thunder&quot; is a st...       POSITIVE   \n",
       "1444961  Across Taika Waititi&#8217;s film&#44; a war a...       NEGATIVE   \n",
       "1444962  It&#8217;s the jokes that make it&#44; with th...       POSITIVE   \n",
       "\n",
       "                                                 reviewUrl  \n",
       "0        http://www.deseretnews.com/article/700003233/B...  \n",
       "1        http://www.dreadcentral.com/index.php?name=Rev...  \n",
       "2        https://www.cbr.com/city-hunter-shinjuku-priva...  \n",
       "3        https://www.japantimes.co.jp/culture/2019/02/0...  \n",
       "4        http://dcist.com/2015/11/out_of_frame_dangerou...  \n",
       "...                                                    ...  \n",
       "1444958  https://raisingwhasians.com/thor-love-and-thun...  \n",
       "1444959  https://www.digitalspy.com/movies/a40496050/th...  \n",
       "1444960  https://www.nextbestpicture.com/thor-love-and-...  \n",
       "1444961  https://www.slantmagazine.com/film/thor-love-a...  \n",
       "1444962  https://rogersmovienation.com/2022/07/05/movie...  \n",
       "\n",
       "[1444963 rows x 11 columns]>"
      ]
     },
     "execution_count": 80,
     "metadata": {},
     "output_type": "execute_result"
    }
   ],
   "source": [
    "data_1.info"
   ]
  },
  {
   "cell_type": "code",
   "execution_count": 81,
   "id": "b464b07d",
   "metadata": {},
   "outputs": [
    {
     "data": {
      "text/plain": [
       "<bound method DataFrame.info of                                                        id  \\\n",
       "0                                      space-zombie-bingo   \n",
       "1                                         the_green_grass   \n",
       "2                                               love_lies   \n",
       "3                                    the_sore_losers_1997   \n",
       "4                                    dinosaur_island_2002   \n",
       "...                                                   ...   \n",
       "143253  nadia_the_secret_of_blue_water_the_motion_pict...   \n",
       "143254                          everyone_i_knew_and_loved   \n",
       "143255                                     the-human-body   \n",
       "143256                                       flying_fists   \n",
       "143257                                     awakening-2005   \n",
       "\n",
       "                                                    title  audienceScore  \\\n",
       "0                                     Space Zombie Bingo!           50.0   \n",
       "1                                         The Green Grass            NaN   \n",
       "2                                              Love, Lies           43.0   \n",
       "3                                             Sore Losers           60.0   \n",
       "4                                         Dinosaur Island           70.0   \n",
       "...                                                   ...            ...   \n",
       "143253  Nadia: The Secret of Blue Water: The Motion Pi...           14.0   \n",
       "143254                          Everyone I Knew and Loved            NaN   \n",
       "143255                                     The Human Body           71.0   \n",
       "143256                                       Flying Fists            NaN   \n",
       "143257                                          Awakening            NaN   \n",
       "\n",
       "        tomatoMeter rating ratingContents releaseDateTheaters  \\\n",
       "0               NaN    NaN            NaN                 NaN   \n",
       "1               NaN    NaN            NaN                 NaN   \n",
       "2               NaN    NaN            NaN                 NaN   \n",
       "3               NaN    NaN            NaN                 NaN   \n",
       "4               NaN    NaN            NaN                 NaN   \n",
       "...             ...    ...            ...                 ...   \n",
       "143253          NaN    NaN            NaN          2002-08-27   \n",
       "143254          NaN    NaN            NaN                 NaN   \n",
       "143255         89.0    NaN            NaN                 NaN   \n",
       "143256          NaN    NaN            NaN                 NaN   \n",
       "143257          NaN    NaN            NaN                 NaN   \n",
       "\n",
       "       releaseDateStreaming  runtimeMinutes                          genre  \\\n",
       "0                2018-08-25            75.0         Comedy, Horror, Sci-fi   \n",
       "1                2020-02-11           114.0                          Drama   \n",
       "2                       NaN           120.0                          Drama   \n",
       "3                2020-10-23            90.0     Action, Mystery & thriller   \n",
       "4                2017-03-27            80.0  Fantasy, Adventure, Animation   \n",
       "...                     ...             ...                            ...   \n",
       "143253                  NaN            90.0       Action, Adventure, Anime   \n",
       "143254                  NaN            99.0                          Drama   \n",
       "143255                  NaN            43.0                    Documentary   \n",
       "143256           2006-11-21            63.0                          Drama   \n",
       "143257                  NaN            90.0                         Horror   \n",
       "\n",
       "       originalLanguage                       director  \\\n",
       "0               English                  George Ormrod   \n",
       "1               English                Tiffany Edwards   \n",
       "2                Korean  Park Heung-Sik,Heung-Sik Park   \n",
       "3               English          John Michael McCarthy   \n",
       "4               English                  Will Meugniot   \n",
       "...                 ...                            ...   \n",
       "143253         Japanese                       Sho Aono   \n",
       "143254          English               Andrew Behringer   \n",
       "143255          English                   Peter Georgi   \n",
       "143256          English                 Robert F. Hill   \n",
       "143257          English               David J. Francis   \n",
       "\n",
       "                                        writer boxOffice distributor soundMix  \n",
       "0                   George Ormrod,John Sabotta       NaN         NaN      NaN  \n",
       "1                              Tiffany Edwards       NaN         NaN      NaN  \n",
       "2       Ha Young-Joon,Jeon Yun-su,Song Hye-jin       NaN         NaN      NaN  \n",
       "3                        John Michael McCarthy       NaN         NaN      NaN  \n",
       "4                                     John Loy       NaN         NaN      NaN  \n",
       "...                                        ...       ...         ...      ...  \n",
       "143253                             Kaoru Umeno       NaN   ADV Films      NaN  \n",
       "143254                         Erika Heidewald       NaN         NaN      NaN  \n",
       "143255                            Richard Dale       NaN         NaN      NaN  \n",
       "143256             Robert F. Hill,Basil Dickey       NaN         NaN      NaN  \n",
       "143257           David J. Francis,Mike Masters       NaN         NaN      NaN  \n",
       "\n",
       "[143258 rows x 16 columns]>"
      ]
     },
     "execution_count": 81,
     "metadata": {},
     "output_type": "execute_result"
    }
   ],
   "source": [
    "data_2.info"
   ]
  },
  {
   "cell_type": "code",
   "execution_count": 82,
   "id": "853980af",
   "metadata": {},
   "outputs": [
    {
     "data": {
      "text/html": [
       "<div>\n",
       "<style scoped>\n",
       "    .dataframe tbody tr th:only-of-type {\n",
       "        vertical-align: middle;\n",
       "    }\n",
       "\n",
       "    .dataframe tbody tr th {\n",
       "        vertical-align: top;\n",
       "    }\n",
       "\n",
       "    .dataframe thead th {\n",
       "        text-align: right;\n",
       "    }\n",
       "</style>\n",
       "<table border=\"1\" class=\"dataframe\">\n",
       "  <thead>\n",
       "    <tr style=\"text-align: right;\">\n",
       "      <th></th>\n",
       "      <th>id</th>\n",
       "      <th>title</th>\n",
       "      <th>audienceScore</th>\n",
       "      <th>tomatoMeter</th>\n",
       "      <th>rating</th>\n",
       "      <th>ratingContents</th>\n",
       "      <th>releaseDateTheaters</th>\n",
       "      <th>releaseDateStreaming</th>\n",
       "      <th>runtimeMinutes</th>\n",
       "      <th>genre</th>\n",
       "      <th>originalLanguage</th>\n",
       "      <th>director</th>\n",
       "      <th>writer</th>\n",
       "      <th>boxOffice</th>\n",
       "      <th>distributor</th>\n",
       "      <th>soundMix</th>\n",
       "    </tr>\n",
       "  </thead>\n",
       "  <tbody>\n",
       "    <tr>\n",
       "      <th>0</th>\n",
       "      <td>space-zombie-bingo</td>\n",
       "      <td>Space Zombie Bingo!</td>\n",
       "      <td>50.0</td>\n",
       "      <td>NaN</td>\n",
       "      <td>NaN</td>\n",
       "      <td>NaN</td>\n",
       "      <td>NaN</td>\n",
       "      <td>2018-08-25</td>\n",
       "      <td>75.0</td>\n",
       "      <td>Comedy, Horror, Sci-fi</td>\n",
       "      <td>English</td>\n",
       "      <td>George Ormrod</td>\n",
       "      <td>George Ormrod,John Sabotta</td>\n",
       "      <td>NaN</td>\n",
       "      <td>NaN</td>\n",
       "      <td>NaN</td>\n",
       "    </tr>\n",
       "    <tr>\n",
       "      <th>1</th>\n",
       "      <td>the_green_grass</td>\n",
       "      <td>The Green Grass</td>\n",
       "      <td>NaN</td>\n",
       "      <td>NaN</td>\n",
       "      <td>NaN</td>\n",
       "      <td>NaN</td>\n",
       "      <td>NaN</td>\n",
       "      <td>2020-02-11</td>\n",
       "      <td>114.0</td>\n",
       "      <td>Drama</td>\n",
       "      <td>English</td>\n",
       "      <td>Tiffany Edwards</td>\n",
       "      <td>Tiffany Edwards</td>\n",
       "      <td>NaN</td>\n",
       "      <td>NaN</td>\n",
       "      <td>NaN</td>\n",
       "    </tr>\n",
       "    <tr>\n",
       "      <th>2</th>\n",
       "      <td>love_lies</td>\n",
       "      <td>Love, Lies</td>\n",
       "      <td>43.0</td>\n",
       "      <td>NaN</td>\n",
       "      <td>NaN</td>\n",
       "      <td>NaN</td>\n",
       "      <td>NaN</td>\n",
       "      <td>NaN</td>\n",
       "      <td>120.0</td>\n",
       "      <td>Drama</td>\n",
       "      <td>Korean</td>\n",
       "      <td>Park Heung-Sik,Heung-Sik Park</td>\n",
       "      <td>Ha Young-Joon,Jeon Yun-su,Song Hye-jin</td>\n",
       "      <td>NaN</td>\n",
       "      <td>NaN</td>\n",
       "      <td>NaN</td>\n",
       "    </tr>\n",
       "    <tr>\n",
       "      <th>3</th>\n",
       "      <td>the_sore_losers_1997</td>\n",
       "      <td>Sore Losers</td>\n",
       "      <td>60.0</td>\n",
       "      <td>NaN</td>\n",
       "      <td>NaN</td>\n",
       "      <td>NaN</td>\n",
       "      <td>NaN</td>\n",
       "      <td>2020-10-23</td>\n",
       "      <td>90.0</td>\n",
       "      <td>Action, Mystery &amp; thriller</td>\n",
       "      <td>English</td>\n",
       "      <td>John Michael McCarthy</td>\n",
       "      <td>John Michael McCarthy</td>\n",
       "      <td>NaN</td>\n",
       "      <td>NaN</td>\n",
       "      <td>NaN</td>\n",
       "    </tr>\n",
       "    <tr>\n",
       "      <th>4</th>\n",
       "      <td>dinosaur_island_2002</td>\n",
       "      <td>Dinosaur Island</td>\n",
       "      <td>70.0</td>\n",
       "      <td>NaN</td>\n",
       "      <td>NaN</td>\n",
       "      <td>NaN</td>\n",
       "      <td>NaN</td>\n",
       "      <td>2017-03-27</td>\n",
       "      <td>80.0</td>\n",
       "      <td>Fantasy, Adventure, Animation</td>\n",
       "      <td>English</td>\n",
       "      <td>Will Meugniot</td>\n",
       "      <td>John Loy</td>\n",
       "      <td>NaN</td>\n",
       "      <td>NaN</td>\n",
       "      <td>NaN</td>\n",
       "    </tr>\n",
       "  </tbody>\n",
       "</table>\n",
       "</div>"
      ],
      "text/plain": [
       "                     id                title  audienceScore  tomatoMeter  \\\n",
       "0    space-zombie-bingo  Space Zombie Bingo!           50.0          NaN   \n",
       "1       the_green_grass      The Green Grass            NaN          NaN   \n",
       "2             love_lies           Love, Lies           43.0          NaN   \n",
       "3  the_sore_losers_1997          Sore Losers           60.0          NaN   \n",
       "4  dinosaur_island_2002      Dinosaur Island           70.0          NaN   \n",
       "\n",
       "  rating ratingContents releaseDateTheaters releaseDateStreaming  \\\n",
       "0    NaN            NaN                 NaN           2018-08-25   \n",
       "1    NaN            NaN                 NaN           2020-02-11   \n",
       "2    NaN            NaN                 NaN                  NaN   \n",
       "3    NaN            NaN                 NaN           2020-10-23   \n",
       "4    NaN            NaN                 NaN           2017-03-27   \n",
       "\n",
       "   runtimeMinutes                          genre originalLanguage  \\\n",
       "0            75.0         Comedy, Horror, Sci-fi          English   \n",
       "1           114.0                          Drama          English   \n",
       "2           120.0                          Drama           Korean   \n",
       "3            90.0     Action, Mystery & thriller          English   \n",
       "4            80.0  Fantasy, Adventure, Animation          English   \n",
       "\n",
       "                        director                                  writer  \\\n",
       "0                  George Ormrod              George Ormrod,John Sabotta   \n",
       "1                Tiffany Edwards                         Tiffany Edwards   \n",
       "2  Park Heung-Sik,Heung-Sik Park  Ha Young-Joon,Jeon Yun-su,Song Hye-jin   \n",
       "3          John Michael McCarthy                   John Michael McCarthy   \n",
       "4                  Will Meugniot                                John Loy   \n",
       "\n",
       "  boxOffice distributor soundMix  \n",
       "0       NaN         NaN      NaN  \n",
       "1       NaN         NaN      NaN  \n",
       "2       NaN         NaN      NaN  \n",
       "3       NaN         NaN      NaN  \n",
       "4       NaN         NaN      NaN  "
      ]
     },
     "execution_count": 82,
     "metadata": {},
     "output_type": "execute_result"
    }
   ],
   "source": [
    "data_2.head()"
   ]
  },
  {
   "cell_type": "code",
   "execution_count": 83,
   "id": "49a236eb",
   "metadata": {},
   "outputs": [],
   "source": [
    "# By studying above data, it is safe to conclude that Data_2 is not useful and not needed."
   ]
  },
  {
   "cell_type": "code",
   "execution_count": 84,
   "id": "8a753846",
   "metadata": {},
   "outputs": [
    {
     "data": {
      "text/html": [
       "<div>\n",
       "<style scoped>\n",
       "    .dataframe tbody tr th:only-of-type {\n",
       "        vertical-align: middle;\n",
       "    }\n",
       "\n",
       "    .dataframe tbody tr th {\n",
       "        vertical-align: top;\n",
       "    }\n",
       "\n",
       "    .dataframe thead th {\n",
       "        text-align: right;\n",
       "    }\n",
       "</style>\n",
       "<table border=\"1\" class=\"dataframe\">\n",
       "  <thead>\n",
       "    <tr style=\"text-align: right;\">\n",
       "      <th></th>\n",
       "      <th>id</th>\n",
       "      <th>reviewId</th>\n",
       "      <th>creationDate</th>\n",
       "      <th>criticName</th>\n",
       "      <th>isTopCritic</th>\n",
       "      <th>originalScore</th>\n",
       "      <th>reviewState</th>\n",
       "      <th>publicatioName</th>\n",
       "      <th>reviewText</th>\n",
       "      <th>scoreSentiment</th>\n",
       "      <th>reviewUrl</th>\n",
       "    </tr>\n",
       "  </thead>\n",
       "  <tbody>\n",
       "    <tr>\n",
       "      <th>1444958</th>\n",
       "      <td>thor_love_and_thunder</td>\n",
       "      <td>102706151</td>\n",
       "      <td>2022-07-05</td>\n",
       "      <td>Christie Cronan</td>\n",
       "      <td>False</td>\n",
       "      <td>7/10</td>\n",
       "      <td>fresh</td>\n",
       "      <td>Raising Whasians</td>\n",
       "      <td>Solid but not totally sold&amp;#44; Thor&amp;#58; Ragn...</td>\n",
       "      <td>POSITIVE</td>\n",
       "      <td>https://raisingwhasians.com/thor-love-and-thun...</td>\n",
       "    </tr>\n",
       "    <tr>\n",
       "      <th>1444959</th>\n",
       "      <td>thor_love_and_thunder</td>\n",
       "      <td>102706150</td>\n",
       "      <td>2022-07-05</td>\n",
       "      <td>Ian Sandwell</td>\n",
       "      <td>False</td>\n",
       "      <td>4/5</td>\n",
       "      <td>fresh</td>\n",
       "      <td>Digital Spy</td>\n",
       "      <td>Thor&amp;#58; Love and Thunder is the most enterta...</td>\n",
       "      <td>POSITIVE</td>\n",
       "      <td>https://www.digitalspy.com/movies/a40496050/th...</td>\n",
       "    </tr>\n",
       "    <tr>\n",
       "      <th>1444960</th>\n",
       "      <td>thor_love_and_thunder</td>\n",
       "      <td>102706149</td>\n",
       "      <td>2022-07-05</td>\n",
       "      <td>Lauren LaMagna</td>\n",
       "      <td>False</td>\n",
       "      <td>8/10</td>\n",
       "      <td>fresh</td>\n",
       "      <td>Next Best Picture</td>\n",
       "      <td>&amp;quot;Thor&amp;#58; Love and Thunder&amp;quot; is a st...</td>\n",
       "      <td>POSITIVE</td>\n",
       "      <td>https://www.nextbestpicture.com/thor-love-and-...</td>\n",
       "    </tr>\n",
       "    <tr>\n",
       "      <th>1444961</th>\n",
       "      <td>thor_love_and_thunder</td>\n",
       "      <td>102706148</td>\n",
       "      <td>2022-07-05</td>\n",
       "      <td>Jake Cole</td>\n",
       "      <td>True</td>\n",
       "      <td>1/4</td>\n",
       "      <td>rotten</td>\n",
       "      <td>Slant Magazine</td>\n",
       "      <td>Across Taika Waititi&amp;#8217;s film&amp;#44; a war a...</td>\n",
       "      <td>NEGATIVE</td>\n",
       "      <td>https://www.slantmagazine.com/film/thor-love-a...</td>\n",
       "    </tr>\n",
       "    <tr>\n",
       "      <th>1444962</th>\n",
       "      <td>thor_love_and_thunder</td>\n",
       "      <td>102706147</td>\n",
       "      <td>2022-07-05</td>\n",
       "      <td>Roger Moore</td>\n",
       "      <td>False</td>\n",
       "      <td>2.5/4</td>\n",
       "      <td>fresh</td>\n",
       "      <td>Movie Nation</td>\n",
       "      <td>It&amp;#8217;s the jokes that make it&amp;#44; with th...</td>\n",
       "      <td>POSITIVE</td>\n",
       "      <td>https://rogersmovienation.com/2022/07/05/movie...</td>\n",
       "    </tr>\n",
       "  </tbody>\n",
       "</table>\n",
       "</div>"
      ],
      "text/plain": [
       "                            id   reviewId creationDate       criticName  \\\n",
       "1444958  thor_love_and_thunder  102706151   2022-07-05  Christie Cronan   \n",
       "1444959  thor_love_and_thunder  102706150   2022-07-05     Ian Sandwell   \n",
       "1444960  thor_love_and_thunder  102706149   2022-07-05   Lauren LaMagna   \n",
       "1444961  thor_love_and_thunder  102706148   2022-07-05        Jake Cole   \n",
       "1444962  thor_love_and_thunder  102706147   2022-07-05      Roger Moore   \n",
       "\n",
       "         isTopCritic originalScore reviewState     publicatioName  \\\n",
       "1444958        False          7/10       fresh   Raising Whasians   \n",
       "1444959        False           4/5       fresh        Digital Spy   \n",
       "1444960        False          8/10       fresh  Next Best Picture   \n",
       "1444961         True           1/4      rotten     Slant Magazine   \n",
       "1444962        False         2.5/4       fresh       Movie Nation   \n",
       "\n",
       "                                                reviewText scoreSentiment  \\\n",
       "1444958  Solid but not totally sold&#44; Thor&#58; Ragn...       POSITIVE   \n",
       "1444959  Thor&#58; Love and Thunder is the most enterta...       POSITIVE   \n",
       "1444960  &quot;Thor&#58; Love and Thunder&quot; is a st...       POSITIVE   \n",
       "1444961  Across Taika Waititi&#8217;s film&#44; a war a...       NEGATIVE   \n",
       "1444962  It&#8217;s the jokes that make it&#44; with th...       POSITIVE   \n",
       "\n",
       "                                                 reviewUrl  \n",
       "1444958  https://raisingwhasians.com/thor-love-and-thun...  \n",
       "1444959  https://www.digitalspy.com/movies/a40496050/th...  \n",
       "1444960  https://www.nextbestpicture.com/thor-love-and-...  \n",
       "1444961  https://www.slantmagazine.com/film/thor-love-a...  \n",
       "1444962  https://rogersmovienation.com/2022/07/05/movie...  "
      ]
     },
     "execution_count": 84,
     "metadata": {},
     "output_type": "execute_result"
    }
   ],
   "source": [
    "data_1.tail()"
   ]
  },
  {
   "cell_type": "code",
   "execution_count": 85,
   "id": "ebaba731",
   "metadata": {},
   "outputs": [
    {
     "data": {
      "text/html": [
       "<div>\n",
       "<style scoped>\n",
       "    .dataframe tbody tr th:only-of-type {\n",
       "        vertical-align: middle;\n",
       "    }\n",
       "\n",
       "    .dataframe tbody tr th {\n",
       "        vertical-align: top;\n",
       "    }\n",
       "\n",
       "    .dataframe thead th {\n",
       "        text-align: right;\n",
       "    }\n",
       "</style>\n",
       "<table border=\"1\" class=\"dataframe\">\n",
       "  <thead>\n",
       "    <tr style=\"text-align: right;\">\n",
       "      <th></th>\n",
       "      <th>id</th>\n",
       "      <th>reviewId</th>\n",
       "      <th>creationDate</th>\n",
       "      <th>criticName</th>\n",
       "      <th>isTopCritic</th>\n",
       "      <th>originalScore</th>\n",
       "      <th>reviewState</th>\n",
       "      <th>publicatioName</th>\n",
       "      <th>reviewText</th>\n",
       "      <th>scoreSentiment</th>\n",
       "      <th>reviewUrl</th>\n",
       "    </tr>\n",
       "  </thead>\n",
       "  <tbody>\n",
       "    <tr>\n",
       "      <th>0</th>\n",
       "      <td>beavers</td>\n",
       "      <td>1145982</td>\n",
       "      <td>2003-05-23</td>\n",
       "      <td>Ivan M. Lincoln</td>\n",
       "      <td>False</td>\n",
       "      <td>3.5/4</td>\n",
       "      <td>fresh</td>\n",
       "      <td>Deseret News (Salt Lake City)</td>\n",
       "      <td>Timed to be just long enough for most youngste...</td>\n",
       "      <td>POSITIVE</td>\n",
       "      <td>http://www.deseretnews.com/article/700003233/B...</td>\n",
       "    </tr>\n",
       "    <tr>\n",
       "      <th>1</th>\n",
       "      <td>blood_mask</td>\n",
       "      <td>1636744</td>\n",
       "      <td>2007-06-02</td>\n",
       "      <td>The Foywonder</td>\n",
       "      <td>False</td>\n",
       "      <td>1/5</td>\n",
       "      <td>rotten</td>\n",
       "      <td>Dread Central</td>\n",
       "      <td>It doesn't matter if a movie costs 300 million...</td>\n",
       "      <td>NEGATIVE</td>\n",
       "      <td>http://www.dreadcentral.com/index.php?name=Rev...</td>\n",
       "    </tr>\n",
       "    <tr>\n",
       "      <th>2</th>\n",
       "      <td>city_hunter_shinjuku_private_eyes</td>\n",
       "      <td>2590987</td>\n",
       "      <td>2019-05-28</td>\n",
       "      <td>Reuben Baron</td>\n",
       "      <td>False</td>\n",
       "      <td>NaN</td>\n",
       "      <td>fresh</td>\n",
       "      <td>CBR</td>\n",
       "      <td>The choreography is so precise and lifelike at...</td>\n",
       "      <td>POSITIVE</td>\n",
       "      <td>https://www.cbr.com/city-hunter-shinjuku-priva...</td>\n",
       "    </tr>\n",
       "    <tr>\n",
       "      <th>3</th>\n",
       "      <td>city_hunter_shinjuku_private_eyes</td>\n",
       "      <td>2558908</td>\n",
       "      <td>2019-02-14</td>\n",
       "      <td>Matt Schley</td>\n",
       "      <td>False</td>\n",
       "      <td>2.5/5</td>\n",
       "      <td>rotten</td>\n",
       "      <td>Japan Times</td>\n",
       "      <td>The film's out-of-touch attempts at humor may ...</td>\n",
       "      <td>NEGATIVE</td>\n",
       "      <td>https://www.japantimes.co.jp/culture/2019/02/0...</td>\n",
       "    </tr>\n",
       "    <tr>\n",
       "      <th>4</th>\n",
       "      <td>dangerous_men_2015</td>\n",
       "      <td>2504681</td>\n",
       "      <td>2018-08-29</td>\n",
       "      <td>Pat Padua</td>\n",
       "      <td>False</td>\n",
       "      <td>NaN</td>\n",
       "      <td>fresh</td>\n",
       "      <td>DCist</td>\n",
       "      <td>Its clumsy determination is endearing and some...</td>\n",
       "      <td>POSITIVE</td>\n",
       "      <td>http://dcist.com/2015/11/out_of_frame_dangerou...</td>\n",
       "    </tr>\n",
       "    <tr>\n",
       "      <th>5</th>\n",
       "      <td>dangerous_men_2015</td>\n",
       "      <td>2299284</td>\n",
       "      <td>2015-12-13</td>\n",
       "      <td>Eric Melin</td>\n",
       "      <td>False</td>\n",
       "      <td>4/5</td>\n",
       "      <td>fresh</td>\n",
       "      <td>Lawrence.com</td>\n",
       "      <td>With every new minute, there's another head-sc...</td>\n",
       "      <td>POSITIVE</td>\n",
       "      <td>http://www.lawrence.com/weblogs/scenestealers/...</td>\n",
       "    </tr>\n",
       "    <tr>\n",
       "      <th>6</th>\n",
       "      <td>dangerous_men_2015</td>\n",
       "      <td>2295858</td>\n",
       "      <td>2015-11-22</td>\n",
       "      <td>Matt Donato</td>\n",
       "      <td>False</td>\n",
       "      <td>7/10</td>\n",
       "      <td>fresh</td>\n",
       "      <td>We Got This Covered</td>\n",
       "      <td>Emotionless reaction shots, zero characterizat...</td>\n",
       "      <td>POSITIVE</td>\n",
       "      <td>http://wegotthiscovered.com/movies/dangerous-m...</td>\n",
       "    </tr>\n",
       "    <tr>\n",
       "      <th>7</th>\n",
       "      <td>dangerous_men_2015</td>\n",
       "      <td>2295338</td>\n",
       "      <td>2015-11-19</td>\n",
       "      <td>Peter Keough</td>\n",
       "      <td>True</td>\n",
       "      <td>0.5/4</td>\n",
       "      <td>rotten</td>\n",
       "      <td>Boston Globe</td>\n",
       "      <td>Conceivably, it could serve as a primer for st...</td>\n",
       "      <td>NEGATIVE</td>\n",
       "      <td>http://www.bostonglobe.com/arts/movies/2015/11...</td>\n",
       "    </tr>\n",
       "    <tr>\n",
       "      <th>8</th>\n",
       "      <td>dangerous_men_2015</td>\n",
       "      <td>2294641</td>\n",
       "      <td>2015-11-16</td>\n",
       "      <td>Jason Wilson</td>\n",
       "      <td>False</td>\n",
       "      <td>3/10</td>\n",
       "      <td>rotten</td>\n",
       "      <td>Under the Radar</td>\n",
       "      <td>If you're not a fan of garbage cinema, even fo...</td>\n",
       "      <td>NEGATIVE</td>\n",
       "      <td>http://www.undertheradarmag.com/reviews/danger...</td>\n",
       "    </tr>\n",
       "    <tr>\n",
       "      <th>9</th>\n",
       "      <td>dangerous_men_2015</td>\n",
       "      <td>2294129</td>\n",
       "      <td>2015-11-12</td>\n",
       "      <td>Soren Andersen</td>\n",
       "      <td>True</td>\n",
       "      <td>0/4</td>\n",
       "      <td>rotten</td>\n",
       "      <td>Seattle Times</td>\n",
       "      <td>\"Dangerous Men,\" the picture's production note...</td>\n",
       "      <td>NEGATIVE</td>\n",
       "      <td>http://www.seattletimes.com/entertainment/movi...</td>\n",
       "    </tr>\n",
       "  </tbody>\n",
       "</table>\n",
       "</div>"
      ],
      "text/plain": [
       "                                  id  reviewId creationDate       criticName  \\\n",
       "0                            beavers   1145982   2003-05-23  Ivan M. Lincoln   \n",
       "1                         blood_mask   1636744   2007-06-02    The Foywonder   \n",
       "2  city_hunter_shinjuku_private_eyes   2590987   2019-05-28     Reuben Baron   \n",
       "3  city_hunter_shinjuku_private_eyes   2558908   2019-02-14      Matt Schley   \n",
       "4                 dangerous_men_2015   2504681   2018-08-29        Pat Padua   \n",
       "5                 dangerous_men_2015   2299284   2015-12-13       Eric Melin   \n",
       "6                 dangerous_men_2015   2295858   2015-11-22      Matt Donato   \n",
       "7                 dangerous_men_2015   2295338   2015-11-19     Peter Keough   \n",
       "8                 dangerous_men_2015   2294641   2015-11-16     Jason Wilson   \n",
       "9                 dangerous_men_2015   2294129   2015-11-12   Soren Andersen   \n",
       "\n",
       "   isTopCritic originalScore reviewState                 publicatioName  \\\n",
       "0        False         3.5/4       fresh  Deseret News (Salt Lake City)   \n",
       "1        False           1/5      rotten                  Dread Central   \n",
       "2        False           NaN       fresh                            CBR   \n",
       "3        False         2.5/5      rotten                    Japan Times   \n",
       "4        False           NaN       fresh                          DCist   \n",
       "5        False           4/5       fresh                   Lawrence.com   \n",
       "6        False          7/10       fresh            We Got This Covered   \n",
       "7         True         0.5/4      rotten                   Boston Globe   \n",
       "8        False          3/10      rotten                Under the Radar   \n",
       "9         True           0/4      rotten                  Seattle Times   \n",
       "\n",
       "                                          reviewText scoreSentiment  \\\n",
       "0  Timed to be just long enough for most youngste...       POSITIVE   \n",
       "1  It doesn't matter if a movie costs 300 million...       NEGATIVE   \n",
       "2  The choreography is so precise and lifelike at...       POSITIVE   \n",
       "3  The film's out-of-touch attempts at humor may ...       NEGATIVE   \n",
       "4  Its clumsy determination is endearing and some...       POSITIVE   \n",
       "5  With every new minute, there's another head-sc...       POSITIVE   \n",
       "6  Emotionless reaction shots, zero characterizat...       POSITIVE   \n",
       "7  Conceivably, it could serve as a primer for st...       NEGATIVE   \n",
       "8  If you're not a fan of garbage cinema, even fo...       NEGATIVE   \n",
       "9  \"Dangerous Men,\" the picture's production note...       NEGATIVE   \n",
       "\n",
       "                                           reviewUrl  \n",
       "0  http://www.deseretnews.com/article/700003233/B...  \n",
       "1  http://www.dreadcentral.com/index.php?name=Rev...  \n",
       "2  https://www.cbr.com/city-hunter-shinjuku-priva...  \n",
       "3  https://www.japantimes.co.jp/culture/2019/02/0...  \n",
       "4  http://dcist.com/2015/11/out_of_frame_dangerou...  \n",
       "5  http://www.lawrence.com/weblogs/scenestealers/...  \n",
       "6  http://wegotthiscovered.com/movies/dangerous-m...  \n",
       "7  http://www.bostonglobe.com/arts/movies/2015/11...  \n",
       "8  http://www.undertheradarmag.com/reviews/danger...  \n",
       "9  http://www.seattletimes.com/entertainment/movi...  "
      ]
     },
     "execution_count": 85,
     "metadata": {},
     "output_type": "execute_result"
    }
   ],
   "source": [
    "data_1.head(10)"
   ]
  },
  {
   "cell_type": "code",
   "execution_count": 86,
   "id": "2e450775",
   "metadata": {},
   "outputs": [
    {
     "data": {
      "text/html": [
       "<div>\n",
       "<style scoped>\n",
       "    .dataframe tbody tr th:only-of-type {\n",
       "        vertical-align: middle;\n",
       "    }\n",
       "\n",
       "    .dataframe tbody tr th {\n",
       "        vertical-align: top;\n",
       "    }\n",
       "\n",
       "    .dataframe thead th {\n",
       "        text-align: right;\n",
       "    }\n",
       "</style>\n",
       "<table border=\"1\" class=\"dataframe\">\n",
       "  <thead>\n",
       "    <tr style=\"text-align: right;\">\n",
       "      <th></th>\n",
       "      <th>id</th>\n",
       "      <th>reviewId</th>\n",
       "      <th>creationDate</th>\n",
       "      <th>criticName</th>\n",
       "      <th>isTopCritic</th>\n",
       "      <th>originalScore</th>\n",
       "      <th>reviewState</th>\n",
       "      <th>publicatioName</th>\n",
       "      <th>reviewText</th>\n",
       "      <th>scoreSentiment</th>\n",
       "      <th>reviewUrl</th>\n",
       "    </tr>\n",
       "  </thead>\n",
       "  <tbody>\n",
       "    <tr>\n",
       "      <th>1444948</th>\n",
       "      <td>thor_love_and_thunder</td>\n",
       "      <td>102706161</td>\n",
       "      <td>2022-07-05</td>\n",
       "      <td>Ben Kendrick</td>\n",
       "      <td>False</td>\n",
       "      <td>4/5</td>\n",
       "      <td>fresh</td>\n",
       "      <td>Screen Rant</td>\n",
       "      <td>Thor&amp;#58; Love and Thunder is a return to form...</td>\n",
       "      <td>POSITIVE</td>\n",
       "      <td>https://screenrant.com/thor-love-and-thunder-2...</td>\n",
       "    </tr>\n",
       "    <tr>\n",
       "      <th>1444949</th>\n",
       "      <td>thor_love_and_thunder</td>\n",
       "      <td>102706160</td>\n",
       "      <td>2022-07-05</td>\n",
       "      <td>Johnny Oleksinski</td>\n",
       "      <td>True</td>\n",
       "      <td>3.5/4</td>\n",
       "      <td>fresh</td>\n",
       "      <td>New York Post</td>\n",
       "      <td>The Marvel Cinematic Universe’s best shot at O...</td>\n",
       "      <td>POSITIVE</td>\n",
       "      <td>https://nypost.com/2022/07/05/thor-love-and-th...</td>\n",
       "    </tr>\n",
       "    <tr>\n",
       "      <th>1444950</th>\n",
       "      <td>thor_love_and_thunder</td>\n",
       "      <td>102706159</td>\n",
       "      <td>2022-07-05</td>\n",
       "      <td>Douglas Davidson</td>\n",
       "      <td>False</td>\n",
       "      <td>4/5</td>\n",
       "      <td>fresh</td>\n",
       "      <td>Elements of Madness</td>\n",
       "      <td>&amp;#46;&amp;#46;&amp;#46; &amp;quot;Love and Thunder&amp;quot; i...</td>\n",
       "      <td>POSITIVE</td>\n",
       "      <td>https://elementsofmadness.com/2022/07/05/thor4/</td>\n",
       "    </tr>\n",
       "    <tr>\n",
       "      <th>1444951</th>\n",
       "      <td>thor_love_and_thunder</td>\n",
       "      <td>102706158</td>\n",
       "      <td>2022-07-05</td>\n",
       "      <td>Owen Gleiberman</td>\n",
       "      <td>True</td>\n",
       "      <td>NaN</td>\n",
       "      <td>fresh</td>\n",
       "      <td>Variety</td>\n",
       "      <td>By the end I felt something unusual enough to ...</td>\n",
       "      <td>POSITIVE</td>\n",
       "      <td>https://variety.com/2022/film/reviews/thor-lov...</td>\n",
       "    </tr>\n",
       "    <tr>\n",
       "      <th>1444952</th>\n",
       "      <td>thor_love_and_thunder</td>\n",
       "      <td>102706157</td>\n",
       "      <td>2022-07-05</td>\n",
       "      <td>Brian Lloyd</td>\n",
       "      <td>False</td>\n",
       "      <td>3/5</td>\n",
       "      <td>fresh</td>\n",
       "      <td>entertainment.ie</td>\n",
       "      <td>It might not be quite as sharp as &amp;apos;Thor&amp;#...</td>\n",
       "      <td>POSITIVE</td>\n",
       "      <td>https://entertainment.ie/movies/movie-reviews/...</td>\n",
       "    </tr>\n",
       "    <tr>\n",
       "      <th>1444953</th>\n",
       "      <td>thor_love_and_thunder</td>\n",
       "      <td>102706156</td>\n",
       "      <td>2022-07-05</td>\n",
       "      <td>Therese Lacson</td>\n",
       "      <td>False</td>\n",
       "      <td>A</td>\n",
       "      <td>fresh</td>\n",
       "      <td>Collider</td>\n",
       "      <td>In Love and Thunder&amp;#44; Waititi honors not on...</td>\n",
       "      <td>POSITIVE</td>\n",
       "      <td>https://collider.com/thor-love-and-thunder-rev...</td>\n",
       "    </tr>\n",
       "    <tr>\n",
       "      <th>1444954</th>\n",
       "      <td>thor_love_and_thunder</td>\n",
       "      <td>102706155</td>\n",
       "      <td>2022-07-05</td>\n",
       "      <td>David Rooney</td>\n",
       "      <td>True</td>\n",
       "      <td>NaN</td>\n",
       "      <td>rotten</td>\n",
       "      <td>Hollywood Reporter</td>\n",
       "      <td>The movie feels weightless, flippant, instantl...</td>\n",
       "      <td>NEGATIVE</td>\n",
       "      <td>https://www.hollywoodreporter.com/movies/movie...</td>\n",
       "    </tr>\n",
       "    <tr>\n",
       "      <th>1444955</th>\n",
       "      <td>thor_love_and_thunder</td>\n",
       "      <td>102706154</td>\n",
       "      <td>2022-07-05</td>\n",
       "      <td>Kaitlyn Booth</td>\n",
       "      <td>False</td>\n",
       "      <td>7/10</td>\n",
       "      <td>fresh</td>\n",
       "      <td>Bleeding Cool</td>\n",
       "      <td>Thor&amp;#58; Love and Thunder tries to make the R...</td>\n",
       "      <td>POSITIVE</td>\n",
       "      <td>https://bleedingcool.com/movies/thor-love-and-...</td>\n",
       "    </tr>\n",
       "    <tr>\n",
       "      <th>1444956</th>\n",
       "      <td>thor_love_and_thunder</td>\n",
       "      <td>102706153</td>\n",
       "      <td>2022-07-05</td>\n",
       "      <td>Tom Jorgensen</td>\n",
       "      <td>False</td>\n",
       "      <td>7/10</td>\n",
       "      <td>fresh</td>\n",
       "      <td>IGN Movies</td>\n",
       "      <td>Thor: Love and Thunder is held back by a cooki...</td>\n",
       "      <td>POSITIVE</td>\n",
       "      <td>https://www.ign.com/articles/thor-love-and-thu...</td>\n",
       "    </tr>\n",
       "    <tr>\n",
       "      <th>1444957</th>\n",
       "      <td>thor_love_and_thunder</td>\n",
       "      <td>102706152</td>\n",
       "      <td>2022-07-05</td>\n",
       "      <td>Joey Magidson</td>\n",
       "      <td>False</td>\n",
       "      <td>3.5/4</td>\n",
       "      <td>fresh</td>\n",
       "      <td>Awards Radar</td>\n",
       "      <td>Thor&amp;#58; Love and Thunder continues to show h...</td>\n",
       "      <td>POSITIVE</td>\n",
       "      <td>https://awardsradar.com/2022/07/05/film-review...</td>\n",
       "    </tr>\n",
       "    <tr>\n",
       "      <th>1444958</th>\n",
       "      <td>thor_love_and_thunder</td>\n",
       "      <td>102706151</td>\n",
       "      <td>2022-07-05</td>\n",
       "      <td>Christie Cronan</td>\n",
       "      <td>False</td>\n",
       "      <td>7/10</td>\n",
       "      <td>fresh</td>\n",
       "      <td>Raising Whasians</td>\n",
       "      <td>Solid but not totally sold&amp;#44; Thor&amp;#58; Ragn...</td>\n",
       "      <td>POSITIVE</td>\n",
       "      <td>https://raisingwhasians.com/thor-love-and-thun...</td>\n",
       "    </tr>\n",
       "    <tr>\n",
       "      <th>1444959</th>\n",
       "      <td>thor_love_and_thunder</td>\n",
       "      <td>102706150</td>\n",
       "      <td>2022-07-05</td>\n",
       "      <td>Ian Sandwell</td>\n",
       "      <td>False</td>\n",
       "      <td>4/5</td>\n",
       "      <td>fresh</td>\n",
       "      <td>Digital Spy</td>\n",
       "      <td>Thor&amp;#58; Love and Thunder is the most enterta...</td>\n",
       "      <td>POSITIVE</td>\n",
       "      <td>https://www.digitalspy.com/movies/a40496050/th...</td>\n",
       "    </tr>\n",
       "    <tr>\n",
       "      <th>1444960</th>\n",
       "      <td>thor_love_and_thunder</td>\n",
       "      <td>102706149</td>\n",
       "      <td>2022-07-05</td>\n",
       "      <td>Lauren LaMagna</td>\n",
       "      <td>False</td>\n",
       "      <td>8/10</td>\n",
       "      <td>fresh</td>\n",
       "      <td>Next Best Picture</td>\n",
       "      <td>&amp;quot;Thor&amp;#58; Love and Thunder&amp;quot; is a st...</td>\n",
       "      <td>POSITIVE</td>\n",
       "      <td>https://www.nextbestpicture.com/thor-love-and-...</td>\n",
       "    </tr>\n",
       "    <tr>\n",
       "      <th>1444961</th>\n",
       "      <td>thor_love_and_thunder</td>\n",
       "      <td>102706148</td>\n",
       "      <td>2022-07-05</td>\n",
       "      <td>Jake Cole</td>\n",
       "      <td>True</td>\n",
       "      <td>1/4</td>\n",
       "      <td>rotten</td>\n",
       "      <td>Slant Magazine</td>\n",
       "      <td>Across Taika Waititi&amp;#8217;s film&amp;#44; a war a...</td>\n",
       "      <td>NEGATIVE</td>\n",
       "      <td>https://www.slantmagazine.com/film/thor-love-a...</td>\n",
       "    </tr>\n",
       "    <tr>\n",
       "      <th>1444962</th>\n",
       "      <td>thor_love_and_thunder</td>\n",
       "      <td>102706147</td>\n",
       "      <td>2022-07-05</td>\n",
       "      <td>Roger Moore</td>\n",
       "      <td>False</td>\n",
       "      <td>2.5/4</td>\n",
       "      <td>fresh</td>\n",
       "      <td>Movie Nation</td>\n",
       "      <td>It&amp;#8217;s the jokes that make it&amp;#44; with th...</td>\n",
       "      <td>POSITIVE</td>\n",
       "      <td>https://rogersmovienation.com/2022/07/05/movie...</td>\n",
       "    </tr>\n",
       "  </tbody>\n",
       "</table>\n",
       "</div>"
      ],
      "text/plain": [
       "                            id   reviewId creationDate         criticName  \\\n",
       "1444948  thor_love_and_thunder  102706161   2022-07-05       Ben Kendrick   \n",
       "1444949  thor_love_and_thunder  102706160   2022-07-05  Johnny Oleksinski   \n",
       "1444950  thor_love_and_thunder  102706159   2022-07-05   Douglas Davidson   \n",
       "1444951  thor_love_and_thunder  102706158   2022-07-05    Owen Gleiberman   \n",
       "1444952  thor_love_and_thunder  102706157   2022-07-05        Brian Lloyd   \n",
       "1444953  thor_love_and_thunder  102706156   2022-07-05     Therese Lacson   \n",
       "1444954  thor_love_and_thunder  102706155   2022-07-05       David Rooney   \n",
       "1444955  thor_love_and_thunder  102706154   2022-07-05      Kaitlyn Booth   \n",
       "1444956  thor_love_and_thunder  102706153   2022-07-05      Tom Jorgensen   \n",
       "1444957  thor_love_and_thunder  102706152   2022-07-05      Joey Magidson   \n",
       "1444958  thor_love_and_thunder  102706151   2022-07-05    Christie Cronan   \n",
       "1444959  thor_love_and_thunder  102706150   2022-07-05       Ian Sandwell   \n",
       "1444960  thor_love_and_thunder  102706149   2022-07-05     Lauren LaMagna   \n",
       "1444961  thor_love_and_thunder  102706148   2022-07-05          Jake Cole   \n",
       "1444962  thor_love_and_thunder  102706147   2022-07-05        Roger Moore   \n",
       "\n",
       "         isTopCritic originalScore reviewState       publicatioName  \\\n",
       "1444948        False           4/5       fresh          Screen Rant   \n",
       "1444949         True         3.5/4       fresh        New York Post   \n",
       "1444950        False           4/5       fresh  Elements of Madness   \n",
       "1444951         True           NaN       fresh              Variety   \n",
       "1444952        False           3/5       fresh     entertainment.ie   \n",
       "1444953        False             A       fresh             Collider   \n",
       "1444954         True           NaN      rotten   Hollywood Reporter   \n",
       "1444955        False          7/10       fresh        Bleeding Cool   \n",
       "1444956        False          7/10       fresh           IGN Movies   \n",
       "1444957        False         3.5/4       fresh         Awards Radar   \n",
       "1444958        False          7/10       fresh     Raising Whasians   \n",
       "1444959        False           4/5       fresh          Digital Spy   \n",
       "1444960        False          8/10       fresh    Next Best Picture   \n",
       "1444961         True           1/4      rotten       Slant Magazine   \n",
       "1444962        False         2.5/4       fresh         Movie Nation   \n",
       "\n",
       "                                                reviewText scoreSentiment  \\\n",
       "1444948  Thor&#58; Love and Thunder is a return to form...       POSITIVE   \n",
       "1444949  The Marvel Cinematic Universe’s best shot at O...       POSITIVE   \n",
       "1444950  &#46;&#46;&#46; &quot;Love and Thunder&quot; i...       POSITIVE   \n",
       "1444951  By the end I felt something unusual enough to ...       POSITIVE   \n",
       "1444952  It might not be quite as sharp as &apos;Thor&#...       POSITIVE   \n",
       "1444953  In Love and Thunder&#44; Waititi honors not on...       POSITIVE   \n",
       "1444954  The movie feels weightless, flippant, instantl...       NEGATIVE   \n",
       "1444955  Thor&#58; Love and Thunder tries to make the R...       POSITIVE   \n",
       "1444956  Thor: Love and Thunder is held back by a cooki...       POSITIVE   \n",
       "1444957  Thor&#58; Love and Thunder continues to show h...       POSITIVE   \n",
       "1444958  Solid but not totally sold&#44; Thor&#58; Ragn...       POSITIVE   \n",
       "1444959  Thor&#58; Love and Thunder is the most enterta...       POSITIVE   \n",
       "1444960  &quot;Thor&#58; Love and Thunder&quot; is a st...       POSITIVE   \n",
       "1444961  Across Taika Waititi&#8217;s film&#44; a war a...       NEGATIVE   \n",
       "1444962  It&#8217;s the jokes that make it&#44; with th...       POSITIVE   \n",
       "\n",
       "                                                 reviewUrl  \n",
       "1444948  https://screenrant.com/thor-love-and-thunder-2...  \n",
       "1444949  https://nypost.com/2022/07/05/thor-love-and-th...  \n",
       "1444950    https://elementsofmadness.com/2022/07/05/thor4/  \n",
       "1444951  https://variety.com/2022/film/reviews/thor-lov...  \n",
       "1444952  https://entertainment.ie/movies/movie-reviews/...  \n",
       "1444953  https://collider.com/thor-love-and-thunder-rev...  \n",
       "1444954  https://www.hollywoodreporter.com/movies/movie...  \n",
       "1444955  https://bleedingcool.com/movies/thor-love-and-...  \n",
       "1444956  https://www.ign.com/articles/thor-love-and-thu...  \n",
       "1444957  https://awardsradar.com/2022/07/05/film-review...  \n",
       "1444958  https://raisingwhasians.com/thor-love-and-thun...  \n",
       "1444959  https://www.digitalspy.com/movies/a40496050/th...  \n",
       "1444960  https://www.nextbestpicture.com/thor-love-and-...  \n",
       "1444961  https://www.slantmagazine.com/film/thor-love-a...  \n",
       "1444962  https://rogersmovienation.com/2022/07/05/movie...  "
      ]
     },
     "execution_count": 86,
     "metadata": {},
     "output_type": "execute_result"
    }
   ],
   "source": [
    "data_1.tail(15)"
   ]
  },
  {
   "cell_type": "markdown",
   "id": "6caab239",
   "metadata": {},
   "source": [
    "a. Counting Word Count In Each Movie Review"
   ]
  },
  {
   "cell_type": "code",
   "execution_count": 87,
   "id": "acbd3c12",
   "metadata": {},
   "outputs": [
    {
     "data": {
      "text/html": [
       "<div>\n",
       "<style scoped>\n",
       "    .dataframe tbody tr th:only-of-type {\n",
       "        vertical-align: middle;\n",
       "    }\n",
       "\n",
       "    .dataframe tbody tr th {\n",
       "        vertical-align: top;\n",
       "    }\n",
       "\n",
       "    .dataframe thead th {\n",
       "        text-align: right;\n",
       "    }\n",
       "</style>\n",
       "<table border=\"1\" class=\"dataframe\">\n",
       "  <thead>\n",
       "    <tr style=\"text-align: right;\">\n",
       "      <th></th>\n",
       "      <th>id</th>\n",
       "      <th>reviewId</th>\n",
       "      <th>creationDate</th>\n",
       "      <th>criticName</th>\n",
       "      <th>isTopCritic</th>\n",
       "      <th>originalScore</th>\n",
       "      <th>reviewState</th>\n",
       "      <th>publicatioName</th>\n",
       "      <th>reviewText</th>\n",
       "      <th>scoreSentiment</th>\n",
       "      <th>reviewUrl</th>\n",
       "      <th>word_count</th>\n",
       "    </tr>\n",
       "  </thead>\n",
       "  <tbody>\n",
       "    <tr>\n",
       "      <th>0</th>\n",
       "      <td>beavers</td>\n",
       "      <td>1145982</td>\n",
       "      <td>2003-05-23</td>\n",
       "      <td>Ivan M. Lincoln</td>\n",
       "      <td>False</td>\n",
       "      <td>3.5/4</td>\n",
       "      <td>fresh</td>\n",
       "      <td>Deseret News (Salt Lake City)</td>\n",
       "      <td>Timed to be just long enough for most youngste...</td>\n",
       "      <td>POSITIVE</td>\n",
       "      <td>http://www.deseretnews.com/article/700003233/B...</td>\n",
       "      <td>28</td>\n",
       "    </tr>\n",
       "    <tr>\n",
       "      <th>1</th>\n",
       "      <td>blood_mask</td>\n",
       "      <td>1636744</td>\n",
       "      <td>2007-06-02</td>\n",
       "      <td>The Foywonder</td>\n",
       "      <td>False</td>\n",
       "      <td>1/5</td>\n",
       "      <td>rotten</td>\n",
       "      <td>Dread Central</td>\n",
       "      <td>It doesn't matter if a movie costs 300 million...</td>\n",
       "      <td>NEGATIVE</td>\n",
       "      <td>http://www.dreadcentral.com/index.php?name=Rev...</td>\n",
       "      <td>31</td>\n",
       "    </tr>\n",
       "    <tr>\n",
       "      <th>2</th>\n",
       "      <td>city_hunter_shinjuku_private_eyes</td>\n",
       "      <td>2590987</td>\n",
       "      <td>2019-05-28</td>\n",
       "      <td>Reuben Baron</td>\n",
       "      <td>False</td>\n",
       "      <td>NaN</td>\n",
       "      <td>fresh</td>\n",
       "      <td>CBR</td>\n",
       "      <td>The choreography is so precise and lifelike at...</td>\n",
       "      <td>POSITIVE</td>\n",
       "      <td>https://www.cbr.com/city-hunter-shinjuku-priva...</td>\n",
       "      <td>40</td>\n",
       "    </tr>\n",
       "    <tr>\n",
       "      <th>3</th>\n",
       "      <td>city_hunter_shinjuku_private_eyes</td>\n",
       "      <td>2558908</td>\n",
       "      <td>2019-02-14</td>\n",
       "      <td>Matt Schley</td>\n",
       "      <td>False</td>\n",
       "      <td>2.5/5</td>\n",
       "      <td>rotten</td>\n",
       "      <td>Japan Times</td>\n",
       "      <td>The film's out-of-touch attempts at humor may ...</td>\n",
       "      <td>NEGATIVE</td>\n",
       "      <td>https://www.japantimes.co.jp/culture/2019/02/0...</td>\n",
       "      <td>22</td>\n",
       "    </tr>\n",
       "    <tr>\n",
       "      <th>4</th>\n",
       "      <td>dangerous_men_2015</td>\n",
       "      <td>2504681</td>\n",
       "      <td>2018-08-29</td>\n",
       "      <td>Pat Padua</td>\n",
       "      <td>False</td>\n",
       "      <td>NaN</td>\n",
       "      <td>fresh</td>\n",
       "      <td>DCist</td>\n",
       "      <td>Its clumsy determination is endearing and some...</td>\n",
       "      <td>POSITIVE</td>\n",
       "      <td>http://dcist.com/2015/11/out_of_frame_dangerou...</td>\n",
       "      <td>9</td>\n",
       "    </tr>\n",
       "    <tr>\n",
       "      <th>5</th>\n",
       "      <td>dangerous_men_2015</td>\n",
       "      <td>2299284</td>\n",
       "      <td>2015-12-13</td>\n",
       "      <td>Eric Melin</td>\n",
       "      <td>False</td>\n",
       "      <td>4/5</td>\n",
       "      <td>fresh</td>\n",
       "      <td>Lawrence.com</td>\n",
       "      <td>With every new minute, there's another head-sc...</td>\n",
       "      <td>POSITIVE</td>\n",
       "      <td>http://www.lawrence.com/weblogs/scenestealers/...</td>\n",
       "      <td>24</td>\n",
       "    </tr>\n",
       "    <tr>\n",
       "      <th>6</th>\n",
       "      <td>dangerous_men_2015</td>\n",
       "      <td>2295858</td>\n",
       "      <td>2015-11-22</td>\n",
       "      <td>Matt Donato</td>\n",
       "      <td>False</td>\n",
       "      <td>7/10</td>\n",
       "      <td>fresh</td>\n",
       "      <td>We Got This Covered</td>\n",
       "      <td>Emotionless reaction shots, zero characterizat...</td>\n",
       "      <td>POSITIVE</td>\n",
       "      <td>http://wegotthiscovered.com/movies/dangerous-m...</td>\n",
       "      <td>26</td>\n",
       "    </tr>\n",
       "    <tr>\n",
       "      <th>7</th>\n",
       "      <td>dangerous_men_2015</td>\n",
       "      <td>2295338</td>\n",
       "      <td>2015-11-19</td>\n",
       "      <td>Peter Keough</td>\n",
       "      <td>True</td>\n",
       "      <td>0.5/4</td>\n",
       "      <td>rotten</td>\n",
       "      <td>Boston Globe</td>\n",
       "      <td>Conceivably, it could serve as a primer for st...</td>\n",
       "      <td>NEGATIVE</td>\n",
       "      <td>http://www.bostonglobe.com/arts/movies/2015/11...</td>\n",
       "      <td>29</td>\n",
       "    </tr>\n",
       "    <tr>\n",
       "      <th>8</th>\n",
       "      <td>dangerous_men_2015</td>\n",
       "      <td>2294641</td>\n",
       "      <td>2015-11-16</td>\n",
       "      <td>Jason Wilson</td>\n",
       "      <td>False</td>\n",
       "      <td>3/10</td>\n",
       "      <td>rotten</td>\n",
       "      <td>Under the Radar</td>\n",
       "      <td>If you're not a fan of garbage cinema, even fo...</td>\n",
       "      <td>NEGATIVE</td>\n",
       "      <td>http://www.undertheradarmag.com/reviews/danger...</td>\n",
       "      <td>21</td>\n",
       "    </tr>\n",
       "    <tr>\n",
       "      <th>9</th>\n",
       "      <td>dangerous_men_2015</td>\n",
       "      <td>2294129</td>\n",
       "      <td>2015-11-12</td>\n",
       "      <td>Soren Andersen</td>\n",
       "      <td>True</td>\n",
       "      <td>0/4</td>\n",
       "      <td>rotten</td>\n",
       "      <td>Seattle Times</td>\n",
       "      <td>\"Dangerous Men,\" the picture's production note...</td>\n",
       "      <td>NEGATIVE</td>\n",
       "      <td>http://www.seattletimes.com/entertainment/movi...</td>\n",
       "      <td>25</td>\n",
       "    </tr>\n",
       "  </tbody>\n",
       "</table>\n",
       "</div>"
      ],
      "text/plain": [
       "                                  id  reviewId creationDate       criticName  \\\n",
       "0                            beavers   1145982   2003-05-23  Ivan M. Lincoln   \n",
       "1                         blood_mask   1636744   2007-06-02    The Foywonder   \n",
       "2  city_hunter_shinjuku_private_eyes   2590987   2019-05-28     Reuben Baron   \n",
       "3  city_hunter_shinjuku_private_eyes   2558908   2019-02-14      Matt Schley   \n",
       "4                 dangerous_men_2015   2504681   2018-08-29        Pat Padua   \n",
       "5                 dangerous_men_2015   2299284   2015-12-13       Eric Melin   \n",
       "6                 dangerous_men_2015   2295858   2015-11-22      Matt Donato   \n",
       "7                 dangerous_men_2015   2295338   2015-11-19     Peter Keough   \n",
       "8                 dangerous_men_2015   2294641   2015-11-16     Jason Wilson   \n",
       "9                 dangerous_men_2015   2294129   2015-11-12   Soren Andersen   \n",
       "\n",
       "   isTopCritic originalScore reviewState                 publicatioName  \\\n",
       "0        False         3.5/4       fresh  Deseret News (Salt Lake City)   \n",
       "1        False           1/5      rotten                  Dread Central   \n",
       "2        False           NaN       fresh                            CBR   \n",
       "3        False         2.5/5      rotten                    Japan Times   \n",
       "4        False           NaN       fresh                          DCist   \n",
       "5        False           4/5       fresh                   Lawrence.com   \n",
       "6        False          7/10       fresh            We Got This Covered   \n",
       "7         True         0.5/4      rotten                   Boston Globe   \n",
       "8        False          3/10      rotten                Under the Radar   \n",
       "9         True           0/4      rotten                  Seattle Times   \n",
       "\n",
       "                                          reviewText scoreSentiment  \\\n",
       "0  Timed to be just long enough for most youngste...       POSITIVE   \n",
       "1  It doesn't matter if a movie costs 300 million...       NEGATIVE   \n",
       "2  The choreography is so precise and lifelike at...       POSITIVE   \n",
       "3  The film's out-of-touch attempts at humor may ...       NEGATIVE   \n",
       "4  Its clumsy determination is endearing and some...       POSITIVE   \n",
       "5  With every new minute, there's another head-sc...       POSITIVE   \n",
       "6  Emotionless reaction shots, zero characterizat...       POSITIVE   \n",
       "7  Conceivably, it could serve as a primer for st...       NEGATIVE   \n",
       "8  If you're not a fan of garbage cinema, even fo...       NEGATIVE   \n",
       "9  \"Dangerous Men,\" the picture's production note...       NEGATIVE   \n",
       "\n",
       "                                           reviewUrl  word_count  \n",
       "0  http://www.deseretnews.com/article/700003233/B...          28  \n",
       "1  http://www.dreadcentral.com/index.php?name=Rev...          31  \n",
       "2  https://www.cbr.com/city-hunter-shinjuku-priva...          40  \n",
       "3  https://www.japantimes.co.jp/culture/2019/02/0...          22  \n",
       "4  http://dcist.com/2015/11/out_of_frame_dangerou...           9  \n",
       "5  http://www.lawrence.com/weblogs/scenestealers/...          24  \n",
       "6  http://wegotthiscovered.com/movies/dangerous-m...          26  \n",
       "7  http://www.bostonglobe.com/arts/movies/2015/11...          29  \n",
       "8  http://www.undertheradarmag.com/reviews/danger...          21  \n",
       "9  http://www.seattletimes.com/entertainment/movi...          25  "
      ]
     },
     "execution_count": 87,
     "metadata": {},
     "output_type": "execute_result"
    }
   ],
   "source": [
    "data_1['word_count'] = data_1[\"reviewText\"].apply(lambda x: len(str(x).split()))\n",
    "data_1.head(10)"
   ]
  },
  {
   "cell_type": "code",
   "execution_count": 88,
   "id": "047912d1",
   "metadata": {},
   "outputs": [
    {
     "data": {
      "text/html": [
       "<div>\n",
       "<style scoped>\n",
       "    .dataframe tbody tr th:only-of-type {\n",
       "        vertical-align: middle;\n",
       "    }\n",
       "\n",
       "    .dataframe tbody tr th {\n",
       "        vertical-align: top;\n",
       "    }\n",
       "\n",
       "    .dataframe thead th {\n",
       "        text-align: right;\n",
       "    }\n",
       "</style>\n",
       "<table border=\"1\" class=\"dataframe\">\n",
       "  <thead>\n",
       "    <tr style=\"text-align: right;\">\n",
       "      <th></th>\n",
       "      <th>id</th>\n",
       "      <th>reviewId</th>\n",
       "      <th>creationDate</th>\n",
       "      <th>criticName</th>\n",
       "      <th>isTopCritic</th>\n",
       "      <th>originalScore</th>\n",
       "      <th>reviewState</th>\n",
       "      <th>publicatioName</th>\n",
       "      <th>reviewText</th>\n",
       "      <th>scoreSentiment</th>\n",
       "      <th>reviewUrl</th>\n",
       "      <th>word_count</th>\n",
       "    </tr>\n",
       "  </thead>\n",
       "  <tbody>\n",
       "    <tr>\n",
       "      <th>1444953</th>\n",
       "      <td>thor_love_and_thunder</td>\n",
       "      <td>102706156</td>\n",
       "      <td>2022-07-05</td>\n",
       "      <td>Therese Lacson</td>\n",
       "      <td>False</td>\n",
       "      <td>A</td>\n",
       "      <td>fresh</td>\n",
       "      <td>Collider</td>\n",
       "      <td>In Love and Thunder&amp;#44; Waititi honors not on...</td>\n",
       "      <td>POSITIVE</td>\n",
       "      <td>https://collider.com/thor-love-and-thunder-rev...</td>\n",
       "      <td>35</td>\n",
       "    </tr>\n",
       "    <tr>\n",
       "      <th>1444954</th>\n",
       "      <td>thor_love_and_thunder</td>\n",
       "      <td>102706155</td>\n",
       "      <td>2022-07-05</td>\n",
       "      <td>David Rooney</td>\n",
       "      <td>True</td>\n",
       "      <td>NaN</td>\n",
       "      <td>rotten</td>\n",
       "      <td>Hollywood Reporter</td>\n",
       "      <td>The movie feels weightless, flippant, instantl...</td>\n",
       "      <td>NEGATIVE</td>\n",
       "      <td>https://www.hollywoodreporter.com/movies/movie...</td>\n",
       "      <td>12</td>\n",
       "    </tr>\n",
       "    <tr>\n",
       "      <th>1444955</th>\n",
       "      <td>thor_love_and_thunder</td>\n",
       "      <td>102706154</td>\n",
       "      <td>2022-07-05</td>\n",
       "      <td>Kaitlyn Booth</td>\n",
       "      <td>False</td>\n",
       "      <td>7/10</td>\n",
       "      <td>fresh</td>\n",
       "      <td>Bleeding Cool</td>\n",
       "      <td>Thor&amp;#58; Love and Thunder tries to make the R...</td>\n",
       "      <td>POSITIVE</td>\n",
       "      <td>https://bleedingcool.com/movies/thor-love-and-...</td>\n",
       "      <td>32</td>\n",
       "    </tr>\n",
       "    <tr>\n",
       "      <th>1444956</th>\n",
       "      <td>thor_love_and_thunder</td>\n",
       "      <td>102706153</td>\n",
       "      <td>2022-07-05</td>\n",
       "      <td>Tom Jorgensen</td>\n",
       "      <td>False</td>\n",
       "      <td>7/10</td>\n",
       "      <td>fresh</td>\n",
       "      <td>IGN Movies</td>\n",
       "      <td>Thor: Love and Thunder is held back by a cooki...</td>\n",
       "      <td>POSITIVE</td>\n",
       "      <td>https://www.ign.com/articles/thor-love-and-thu...</td>\n",
       "      <td>33</td>\n",
       "    </tr>\n",
       "    <tr>\n",
       "      <th>1444957</th>\n",
       "      <td>thor_love_and_thunder</td>\n",
       "      <td>102706152</td>\n",
       "      <td>2022-07-05</td>\n",
       "      <td>Joey Magidson</td>\n",
       "      <td>False</td>\n",
       "      <td>3.5/4</td>\n",
       "      <td>fresh</td>\n",
       "      <td>Awards Radar</td>\n",
       "      <td>Thor&amp;#58; Love and Thunder continues to show h...</td>\n",
       "      <td>POSITIVE</td>\n",
       "      <td>https://awardsradar.com/2022/07/05/film-review...</td>\n",
       "      <td>23</td>\n",
       "    </tr>\n",
       "    <tr>\n",
       "      <th>1444958</th>\n",
       "      <td>thor_love_and_thunder</td>\n",
       "      <td>102706151</td>\n",
       "      <td>2022-07-05</td>\n",
       "      <td>Christie Cronan</td>\n",
       "      <td>False</td>\n",
       "      <td>7/10</td>\n",
       "      <td>fresh</td>\n",
       "      <td>Raising Whasians</td>\n",
       "      <td>Solid but not totally sold&amp;#44; Thor&amp;#58; Ragn...</td>\n",
       "      <td>POSITIVE</td>\n",
       "      <td>https://raisingwhasians.com/thor-love-and-thun...</td>\n",
       "      <td>17</td>\n",
       "    </tr>\n",
       "    <tr>\n",
       "      <th>1444959</th>\n",
       "      <td>thor_love_and_thunder</td>\n",
       "      <td>102706150</td>\n",
       "      <td>2022-07-05</td>\n",
       "      <td>Ian Sandwell</td>\n",
       "      <td>False</td>\n",
       "      <td>4/5</td>\n",
       "      <td>fresh</td>\n",
       "      <td>Digital Spy</td>\n",
       "      <td>Thor&amp;#58; Love and Thunder is the most enterta...</td>\n",
       "      <td>POSITIVE</td>\n",
       "      <td>https://www.digitalspy.com/movies/a40496050/th...</td>\n",
       "      <td>31</td>\n",
       "    </tr>\n",
       "    <tr>\n",
       "      <th>1444960</th>\n",
       "      <td>thor_love_and_thunder</td>\n",
       "      <td>102706149</td>\n",
       "      <td>2022-07-05</td>\n",
       "      <td>Lauren LaMagna</td>\n",
       "      <td>False</td>\n",
       "      <td>8/10</td>\n",
       "      <td>fresh</td>\n",
       "      <td>Next Best Picture</td>\n",
       "      <td>&amp;quot;Thor&amp;#58; Love and Thunder&amp;quot; is a st...</td>\n",
       "      <td>POSITIVE</td>\n",
       "      <td>https://www.nextbestpicture.com/thor-love-and-...</td>\n",
       "      <td>18</td>\n",
       "    </tr>\n",
       "    <tr>\n",
       "      <th>1444961</th>\n",
       "      <td>thor_love_and_thunder</td>\n",
       "      <td>102706148</td>\n",
       "      <td>2022-07-05</td>\n",
       "      <td>Jake Cole</td>\n",
       "      <td>True</td>\n",
       "      <td>1/4</td>\n",
       "      <td>rotten</td>\n",
       "      <td>Slant Magazine</td>\n",
       "      <td>Across Taika Waititi&amp;#8217;s film&amp;#44; a war a...</td>\n",
       "      <td>NEGATIVE</td>\n",
       "      <td>https://www.slantmagazine.com/film/thor-love-a...</td>\n",
       "      <td>17</td>\n",
       "    </tr>\n",
       "    <tr>\n",
       "      <th>1444962</th>\n",
       "      <td>thor_love_and_thunder</td>\n",
       "      <td>102706147</td>\n",
       "      <td>2022-07-05</td>\n",
       "      <td>Roger Moore</td>\n",
       "      <td>False</td>\n",
       "      <td>2.5/4</td>\n",
       "      <td>fresh</td>\n",
       "      <td>Movie Nation</td>\n",
       "      <td>It&amp;#8217;s the jokes that make it&amp;#44; with th...</td>\n",
       "      <td>POSITIVE</td>\n",
       "      <td>https://rogersmovienation.com/2022/07/05/movie...</td>\n",
       "      <td>32</td>\n",
       "    </tr>\n",
       "  </tbody>\n",
       "</table>\n",
       "</div>"
      ],
      "text/plain": [
       "                            id   reviewId creationDate       criticName  \\\n",
       "1444953  thor_love_and_thunder  102706156   2022-07-05   Therese Lacson   \n",
       "1444954  thor_love_and_thunder  102706155   2022-07-05     David Rooney   \n",
       "1444955  thor_love_and_thunder  102706154   2022-07-05    Kaitlyn Booth   \n",
       "1444956  thor_love_and_thunder  102706153   2022-07-05    Tom Jorgensen   \n",
       "1444957  thor_love_and_thunder  102706152   2022-07-05    Joey Magidson   \n",
       "1444958  thor_love_and_thunder  102706151   2022-07-05  Christie Cronan   \n",
       "1444959  thor_love_and_thunder  102706150   2022-07-05     Ian Sandwell   \n",
       "1444960  thor_love_and_thunder  102706149   2022-07-05   Lauren LaMagna   \n",
       "1444961  thor_love_and_thunder  102706148   2022-07-05        Jake Cole   \n",
       "1444962  thor_love_and_thunder  102706147   2022-07-05      Roger Moore   \n",
       "\n",
       "         isTopCritic originalScore reviewState      publicatioName  \\\n",
       "1444953        False             A       fresh            Collider   \n",
       "1444954         True           NaN      rotten  Hollywood Reporter   \n",
       "1444955        False          7/10       fresh       Bleeding Cool   \n",
       "1444956        False          7/10       fresh          IGN Movies   \n",
       "1444957        False         3.5/4       fresh        Awards Radar   \n",
       "1444958        False          7/10       fresh    Raising Whasians   \n",
       "1444959        False           4/5       fresh         Digital Spy   \n",
       "1444960        False          8/10       fresh   Next Best Picture   \n",
       "1444961         True           1/4      rotten      Slant Magazine   \n",
       "1444962        False         2.5/4       fresh        Movie Nation   \n",
       "\n",
       "                                                reviewText scoreSentiment  \\\n",
       "1444953  In Love and Thunder&#44; Waititi honors not on...       POSITIVE   \n",
       "1444954  The movie feels weightless, flippant, instantl...       NEGATIVE   \n",
       "1444955  Thor&#58; Love and Thunder tries to make the R...       POSITIVE   \n",
       "1444956  Thor: Love and Thunder is held back by a cooki...       POSITIVE   \n",
       "1444957  Thor&#58; Love and Thunder continues to show h...       POSITIVE   \n",
       "1444958  Solid but not totally sold&#44; Thor&#58; Ragn...       POSITIVE   \n",
       "1444959  Thor&#58; Love and Thunder is the most enterta...       POSITIVE   \n",
       "1444960  &quot;Thor&#58; Love and Thunder&quot; is a st...       POSITIVE   \n",
       "1444961  Across Taika Waititi&#8217;s film&#44; a war a...       NEGATIVE   \n",
       "1444962  It&#8217;s the jokes that make it&#44; with th...       POSITIVE   \n",
       "\n",
       "                                                 reviewUrl  word_count  \n",
       "1444953  https://collider.com/thor-love-and-thunder-rev...          35  \n",
       "1444954  https://www.hollywoodreporter.com/movies/movie...          12  \n",
       "1444955  https://bleedingcool.com/movies/thor-love-and-...          32  \n",
       "1444956  https://www.ign.com/articles/thor-love-and-thu...          33  \n",
       "1444957  https://awardsradar.com/2022/07/05/film-review...          23  \n",
       "1444958  https://raisingwhasians.com/thor-love-and-thun...          17  \n",
       "1444959  https://www.digitalspy.com/movies/a40496050/th...          31  \n",
       "1444960  https://www.nextbestpicture.com/thor-love-and-...          18  \n",
       "1444961  https://www.slantmagazine.com/film/thor-love-a...          17  \n",
       "1444962  https://rogersmovienation.com/2022/07/05/movie...          32  "
      ]
     },
     "execution_count": 88,
     "metadata": {},
     "output_type": "execute_result"
    }
   ],
   "source": [
    "data_1.tail(10)"
   ]
  },
  {
   "cell_type": "code",
   "execution_count": 89,
   "id": "a77acfbb",
   "metadata": {},
   "outputs": [],
   "source": [
    "# Therefore, the number of words in each review is similar or close"
   ]
  },
  {
   "cell_type": "markdown",
   "id": "66ece897",
   "metadata": {},
   "source": [
    "b. Feature Extraction"
   ]
  },
  {
   "cell_type": "code",
   "execution_count": 90,
   "id": "dc482675",
   "metadata": {},
   "outputs": [
    {
     "data": {
      "text/html": [
       "<div>\n",
       "<style scoped>\n",
       "    .dataframe tbody tr th:only-of-type {\n",
       "        vertical-align: middle;\n",
       "    }\n",
       "\n",
       "    .dataframe tbody tr th {\n",
       "        vertical-align: top;\n",
       "    }\n",
       "\n",
       "    .dataframe thead th {\n",
       "        text-align: right;\n",
       "    }\n",
       "</style>\n",
       "<table border=\"1\" class=\"dataframe\">\n",
       "  <thead>\n",
       "    <tr style=\"text-align: right;\">\n",
       "      <th></th>\n",
       "      <th>Text</th>\n",
       "      <th>Sentiment</th>\n",
       "    </tr>\n",
       "  </thead>\n",
       "  <tbody>\n",
       "    <tr>\n",
       "      <th>0</th>\n",
       "      <td>Timed to be just long enough for most youngste...</td>\n",
       "      <td>POSITIVE</td>\n",
       "    </tr>\n",
       "    <tr>\n",
       "      <th>1</th>\n",
       "      <td>It doesn't matter if a movie costs 300 million...</td>\n",
       "      <td>NEGATIVE</td>\n",
       "    </tr>\n",
       "    <tr>\n",
       "      <th>2</th>\n",
       "      <td>The choreography is so precise and lifelike at...</td>\n",
       "      <td>POSITIVE</td>\n",
       "    </tr>\n",
       "    <tr>\n",
       "      <th>3</th>\n",
       "      <td>The film's out-of-touch attempts at humor may ...</td>\n",
       "      <td>NEGATIVE</td>\n",
       "    </tr>\n",
       "    <tr>\n",
       "      <th>4</th>\n",
       "      <td>Its clumsy determination is endearing and some...</td>\n",
       "      <td>POSITIVE</td>\n",
       "    </tr>\n",
       "  </tbody>\n",
       "</table>\n",
       "</div>"
      ],
      "text/plain": [
       "                                                Text Sentiment\n",
       "0  Timed to be just long enough for most youngste...  POSITIVE\n",
       "1  It doesn't matter if a movie costs 300 million...  NEGATIVE\n",
       "2  The choreography is so precise and lifelike at...  POSITIVE\n",
       "3  The film's out-of-touch attempts at humor may ...  NEGATIVE\n",
       "4  Its clumsy determination is endearing and some...  POSITIVE"
      ]
     },
     "execution_count": 90,
     "metadata": {},
     "output_type": "execute_result"
    }
   ],
   "source": [
    "#Extracted the only features that are required - the actual movie review and the result\n",
    "data = pd.DataFrame({\"Text\":data_1[\"reviewText\"], \"Sentiment\":data_1[\"scoreSentiment\"]})\n",
    "data.head()"
   ]
  },
  {
   "cell_type": "markdown",
   "id": "7edf601c",
   "metadata": {},
   "source": [
    "c. Checking Missing Data"
   ]
  },
  {
   "cell_type": "code",
   "execution_count": 91,
   "id": "6fb253d2",
   "metadata": {},
   "outputs": [
    {
     "data": {
      "text/plain": [
       "Text         69225\n",
       "Sentiment        0\n",
       "dtype: int64"
      ]
     },
     "execution_count": 91,
     "metadata": {},
     "output_type": "execute_result"
    }
   ],
   "source": [
    "data.isnull().sum()"
   ]
  },
  {
   "cell_type": "code",
   "execution_count": 92,
   "id": "2c0d99d1",
   "metadata": {},
   "outputs": [
    {
     "data": {
      "text/plain": [
       "np.float64(4.790780109940531)"
      ]
     },
     "execution_count": 92,
     "metadata": {},
     "output_type": "execute_result"
    }
   ],
   "source": [
    "# Checking percentage of missing data\n",
    "(data[\"Text\"].isnull().sum())*100/len(data[\"Sentiment\"])"
   ]
  },
  {
   "cell_type": "code",
   "execution_count": 93,
   "id": "823bb0dc",
   "metadata": {},
   "outputs": [
    {
     "data": {
      "text/plain": [
       "<bound method DataFrame.info of                                                       Text Sentiment\n",
       "0        Timed to be just long enough for most youngste...  POSITIVE\n",
       "1        It doesn't matter if a movie costs 300 million...  NEGATIVE\n",
       "2        The choreography is so precise and lifelike at...  POSITIVE\n",
       "3        The film's out-of-touch attempts at humor may ...  NEGATIVE\n",
       "4        Its clumsy determination is endearing and some...  POSITIVE\n",
       "...                                                    ...       ...\n",
       "1444958  Solid but not totally sold&#44; Thor&#58; Ragn...  POSITIVE\n",
       "1444959  Thor&#58; Love and Thunder is the most enterta...  POSITIVE\n",
       "1444960  &quot;Thor&#58; Love and Thunder&quot; is a st...  POSITIVE\n",
       "1444961  Across Taika Waititi&#8217;s film&#44; a war a...  NEGATIVE\n",
       "1444962  It&#8217;s the jokes that make it&#44; with th...  POSITIVE\n",
       "\n",
       "[1444963 rows x 2 columns]>"
      ]
     },
     "execution_count": 93,
     "metadata": {},
     "output_type": "execute_result"
    }
   ],
   "source": [
    "data.info"
   ]
  },
  {
   "cell_type": "code",
   "execution_count": 94,
   "id": "ae682f45",
   "metadata": {},
   "outputs": [
    {
     "data": {
      "text/plain": [
       "<bound method DataFrame.info of                                                       Text Sentiment\n",
       "0        Timed to be just long enough for most youngste...  POSITIVE\n",
       "1        It doesn't matter if a movie costs 300 million...  NEGATIVE\n",
       "2        The choreography is so precise and lifelike at...  POSITIVE\n",
       "3        The film's out-of-touch attempts at humor may ...  NEGATIVE\n",
       "4        Its clumsy determination is endearing and some...  POSITIVE\n",
       "...                                                    ...       ...\n",
       "1444958  Solid but not totally sold&#44; Thor&#58; Ragn...  POSITIVE\n",
       "1444959  Thor&#58; Love and Thunder is the most enterta...  POSITIVE\n",
       "1444960  &quot;Thor&#58; Love and Thunder&quot; is a st...  POSITIVE\n",
       "1444961  Across Taika Waititi&#8217;s film&#44; a war a...  NEGATIVE\n",
       "1444962  It&#8217;s the jokes that make it&#44; with th...  POSITIVE\n",
       "\n",
       "[1375738 rows x 2 columns]>"
      ]
     },
     "execution_count": 94,
     "metadata": {},
     "output_type": "execute_result"
    }
   ],
   "source": [
    "data = data.dropna()\n",
    "data.info"
   ]
  },
  {
   "cell_type": "markdown",
   "id": "2ad73740",
   "metadata": {},
   "source": [
    "d. Checking whether data is balanced or not"
   ]
  },
  {
   "cell_type": "code",
   "execution_count": 95,
   "id": "7636823f",
   "metadata": {},
   "outputs": [
    {
     "data": {
      "text/plain": [
       "Sentiment\n",
       "POSITIVE    922510\n",
       "NEGATIVE    453228\n",
       "Name: count, dtype: int64"
      ]
     },
     "execution_count": 95,
     "metadata": {},
     "output_type": "execute_result"
    }
   ],
   "source": [
    "data[\"Sentiment\"].value_counts()"
   ]
  },
  {
   "cell_type": "markdown",
   "id": "72b845f6",
   "metadata": {},
   "source": [
    "e. Balancing Data"
   ]
  },
  {
   "cell_type": "code",
   "execution_count": 96,
   "id": "4ac658dc",
   "metadata": {},
   "outputs": [],
   "source": [
    "import re"
   ]
  },
  {
   "cell_type": "code",
   "execution_count": 97,
   "id": "3e30db06",
   "metadata": {},
   "outputs": [
    {
     "name": "stderr",
     "output_type": "stream",
     "text": [
      "C:\\Users\\akshat\\AppData\\Local\\Temp\\ipykernel_30036\\3055689902.py:5: SettingWithCopyWarning: \n",
      "A value is trying to be set on a copy of a slice from a DataFrame.\n",
      "Try using .loc[row_indexer,col_indexer] = value instead\n",
      "\n",
      "See the caveats in the documentation: https://pandas.pydata.org/pandas-docs/stable/user_guide/indexing.html#returning-a-view-versus-a-copy\n",
      "  data['Text'] = data['Text'].apply(clean_text)\n"
     ]
    }
   ],
   "source": [
    "def clean_text(text):\n",
    "    text = re.sub(r\",.*?.#\", \"\", text)\n",
    "    text = text.replace('\\n', ' ').strip()\n",
    "    return text\n",
    "data['Text'] = data['Text'].apply(clean_text)"
   ]
  },
  {
   "cell_type": "code",
   "execution_count": 98,
   "id": "1fb819b9",
   "metadata": {},
   "outputs": [
    {
     "data": {
      "text/html": [
       "<div>\n",
       "<style scoped>\n",
       "    .dataframe tbody tr th:only-of-type {\n",
       "        vertical-align: middle;\n",
       "    }\n",
       "\n",
       "    .dataframe tbody tr th {\n",
       "        vertical-align: top;\n",
       "    }\n",
       "\n",
       "    .dataframe thead th {\n",
       "        text-align: right;\n",
       "    }\n",
       "</style>\n",
       "<table border=\"1\" class=\"dataframe\">\n",
       "  <thead>\n",
       "    <tr style=\"text-align: right;\">\n",
       "      <th></th>\n",
       "      <th>Text</th>\n",
       "      <th>Sentiment</th>\n",
       "    </tr>\n",
       "  </thead>\n",
       "  <tbody>\n",
       "    <tr>\n",
       "      <th>0</th>\n",
       "      <td>Timed to be just long enough for most youngste...</td>\n",
       "      <td>POSITIVE</td>\n",
       "    </tr>\n",
       "    <tr>\n",
       "      <th>1</th>\n",
       "      <td>It doesn't matter if a movie costs 300 million...</td>\n",
       "      <td>NEGATIVE</td>\n",
       "    </tr>\n",
       "    <tr>\n",
       "      <th>2</th>\n",
       "      <td>The choreography is so precise and lifelike at...</td>\n",
       "      <td>POSITIVE</td>\n",
       "    </tr>\n",
       "    <tr>\n",
       "      <th>3</th>\n",
       "      <td>The film's out-of-touch attempts at humor may ...</td>\n",
       "      <td>NEGATIVE</td>\n",
       "    </tr>\n",
       "    <tr>\n",
       "      <th>4</th>\n",
       "      <td>Its clumsy determination is endearing and some...</td>\n",
       "      <td>POSITIVE</td>\n",
       "    </tr>\n",
       "  </tbody>\n",
       "</table>\n",
       "</div>"
      ],
      "text/plain": [
       "                                                Text Sentiment\n",
       "0  Timed to be just long enough for most youngste...  POSITIVE\n",
       "1  It doesn't matter if a movie costs 300 million...  NEGATIVE\n",
       "2  The choreography is so precise and lifelike at...  POSITIVE\n",
       "3  The film's out-of-touch attempts at humor may ...  NEGATIVE\n",
       "4  Its clumsy determination is endearing and some...  POSITIVE"
      ]
     },
     "execution_count": 98,
     "metadata": {},
     "output_type": "execute_result"
    }
   ],
   "source": [
    "data.head()"
   ]
  },
  {
   "cell_type": "code",
   "execution_count": 99,
   "id": "ad390299",
   "metadata": {},
   "outputs": [
    {
     "data": {
      "text/html": [
       "<div>\n",
       "<style scoped>\n",
       "    .dataframe tbody tr th:only-of-type {\n",
       "        vertical-align: middle;\n",
       "    }\n",
       "\n",
       "    .dataframe tbody tr th {\n",
       "        vertical-align: top;\n",
       "    }\n",
       "\n",
       "    .dataframe thead th {\n",
       "        text-align: right;\n",
       "    }\n",
       "</style>\n",
       "<table border=\"1\" class=\"dataframe\">\n",
       "  <thead>\n",
       "    <tr style=\"text-align: right;\">\n",
       "      <th></th>\n",
       "      <th>Text</th>\n",
       "      <th>Sentiment</th>\n",
       "    </tr>\n",
       "  </thead>\n",
       "  <tbody>\n",
       "    <tr>\n",
       "      <th>1444958</th>\n",
       "      <td>Solid but not totally sold&amp;#44; Thor&amp;#58; Ragn...</td>\n",
       "      <td>POSITIVE</td>\n",
       "    </tr>\n",
       "    <tr>\n",
       "      <th>1444959</th>\n",
       "      <td>Thor&amp;#58; Love and Thunder is the most enterta...</td>\n",
       "      <td>POSITIVE</td>\n",
       "    </tr>\n",
       "    <tr>\n",
       "      <th>1444960</th>\n",
       "      <td>&amp;quot;Thor&amp;#58; Love and Thunder&amp;quot; is a st...</td>\n",
       "      <td>POSITIVE</td>\n",
       "    </tr>\n",
       "    <tr>\n",
       "      <th>1444961</th>\n",
       "      <td>Across Taika Waititi&amp;#8217;s film&amp;#44; a war a...</td>\n",
       "      <td>NEGATIVE</td>\n",
       "    </tr>\n",
       "    <tr>\n",
       "      <th>1444962</th>\n",
       "      <td>It&amp;#8217;s the jokes that make it&amp;#44; with th...</td>\n",
       "      <td>POSITIVE</td>\n",
       "    </tr>\n",
       "  </tbody>\n",
       "</table>\n",
       "</div>"
      ],
      "text/plain": [
       "                                                      Text Sentiment\n",
       "1444958  Solid but not totally sold&#44; Thor&#58; Ragn...  POSITIVE\n",
       "1444959  Thor&#58; Love and Thunder is the most enterta...  POSITIVE\n",
       "1444960  &quot;Thor&#58; Love and Thunder&quot; is a st...  POSITIVE\n",
       "1444961  Across Taika Waititi&#8217;s film&#44; a war a...  NEGATIVE\n",
       "1444962  It&#8217;s the jokes that make it&#44; with th...  POSITIVE"
      ]
     },
     "execution_count": 99,
     "metadata": {},
     "output_type": "execute_result"
    }
   ],
   "source": [
    "data.tail()"
   ]
  },
  {
   "cell_type": "code",
   "execution_count": 100,
   "id": "d3fe6da5",
   "metadata": {},
   "outputs": [
    {
     "data": {
      "text/plain": [
       "Sentiment\n",
       "POSITIVE    922510\n",
       "NEGATIVE    453228\n",
       "Name: count, dtype: int64"
      ]
     },
     "execution_count": 100,
     "metadata": {},
     "output_type": "execute_result"
    }
   ],
   "source": [
    "data[\"Sentiment\"].value_counts()"
   ]
  },
  {
   "cell_type": "code",
   "execution_count": 101,
   "id": "fc31b781",
   "metadata": {},
   "outputs": [],
   "source": [
    "# Data is cleaned"
   ]
  },
  {
   "cell_type": "code",
   "execution_count": 102,
   "id": "7cfcc871",
   "metadata": {},
   "outputs": [],
   "source": [
    "positive_df = data[data[\"Sentiment\"] == \"POSITIVE\"]\n",
    "negative_df = data[data[\"Sentiment\"] == \"NEGATIVE\"]"
   ]
  },
  {
   "cell_type": "code",
   "execution_count": 103,
   "id": "b047da6b",
   "metadata": {},
   "outputs": [],
   "source": [
    "positive_df = positive_df.sample(frac=0.5, random_state=0)"
   ]
  },
  {
   "cell_type": "code",
   "execution_count": 104,
   "id": "f9ad70e5",
   "metadata": {},
   "outputs": [],
   "source": [
    "balanced_df = pd.concat([positive_df, negative_df], ignore_index=True)"
   ]
  },
  {
   "cell_type": "code",
   "execution_count": 105,
   "id": "cbc38be7",
   "metadata": {},
   "outputs": [],
   "source": [
    "balanced_df = balanced_df.sample(frac=1, random_state=42).reset_index(drop=True)"
   ]
  },
  {
   "cell_type": "code",
   "execution_count": 106,
   "id": "3ebbf2b7",
   "metadata": {},
   "outputs": [
    {
     "data": {
      "text/html": [
       "<div>\n",
       "<style scoped>\n",
       "    .dataframe tbody tr th:only-of-type {\n",
       "        vertical-align: middle;\n",
       "    }\n",
       "\n",
       "    .dataframe tbody tr th {\n",
       "        vertical-align: top;\n",
       "    }\n",
       "\n",
       "    .dataframe thead th {\n",
       "        text-align: right;\n",
       "    }\n",
       "</style>\n",
       "<table border=\"1\" class=\"dataframe\">\n",
       "  <thead>\n",
       "    <tr style=\"text-align: right;\">\n",
       "      <th></th>\n",
       "      <th>Text</th>\n",
       "      <th>Sentiment</th>\n",
       "    </tr>\n",
       "  </thead>\n",
       "  <tbody>\n",
       "    <tr>\n",
       "      <th>0</th>\n",
       "      <td>The film fades out but not before it's given u...</td>\n",
       "      <td>POSITIVE</td>\n",
       "    </tr>\n",
       "    <tr>\n",
       "      <th>1</th>\n",
       "      <td>A well deserved Oscar nomination for Demian Bi...</td>\n",
       "      <td>POSITIVE</td>\n",
       "    </tr>\n",
       "    <tr>\n",
       "      <th>2</th>\n",
       "      <td>There is sadness, but life continues. Death is...</td>\n",
       "      <td>POSITIVE</td>\n",
       "    </tr>\n",
       "    <tr>\n",
       "      <th>3</th>\n",
       "      <td>Well structured and dynamically edited, Decept...</td>\n",
       "      <td>POSITIVE</td>\n",
       "    </tr>\n",
       "    <tr>\n",
       "      <th>4</th>\n",
       "      <td>It really is an unfocused documentary that cou...</td>\n",
       "      <td>NEGATIVE</td>\n",
       "    </tr>\n",
       "  </tbody>\n",
       "</table>\n",
       "</div>"
      ],
      "text/plain": [
       "                                                Text Sentiment\n",
       "0  The film fades out but not before it's given u...  POSITIVE\n",
       "1  A well deserved Oscar nomination for Demian Bi...  POSITIVE\n",
       "2  There is sadness, but life continues. Death is...  POSITIVE\n",
       "3  Well structured and dynamically edited, Decept...  POSITIVE\n",
       "4  It really is an unfocused documentary that cou...  NEGATIVE"
      ]
     },
     "execution_count": 106,
     "metadata": {},
     "output_type": "execute_result"
    }
   ],
   "source": [
    "balanced_df.head()"
   ]
  },
  {
   "cell_type": "code",
   "execution_count": 107,
   "id": "b273c88e",
   "metadata": {},
   "outputs": [
    {
     "data": {
      "text/html": [
       "<div>\n",
       "<style scoped>\n",
       "    .dataframe tbody tr th:only-of-type {\n",
       "        vertical-align: middle;\n",
       "    }\n",
       "\n",
       "    .dataframe tbody tr th {\n",
       "        vertical-align: top;\n",
       "    }\n",
       "\n",
       "    .dataframe thead th {\n",
       "        text-align: right;\n",
       "    }\n",
       "</style>\n",
       "<table border=\"1\" class=\"dataframe\">\n",
       "  <thead>\n",
       "    <tr style=\"text-align: right;\">\n",
       "      <th></th>\n",
       "      <th>Text</th>\n",
       "      <th>Sentiment</th>\n",
       "    </tr>\n",
       "  </thead>\n",
       "  <tbody>\n",
       "    <tr>\n",
       "      <th>914478</th>\n",
       "      <td>...it provides full-on thrills, maybe exaggera...</td>\n",
       "      <td>POSITIVE</td>\n",
       "    </tr>\n",
       "    <tr>\n",
       "      <th>914479</th>\n",
       "      <td>A sad, sordid tale of neorealist breath, oxyge...</td>\n",
       "      <td>POSITIVE</td>\n",
       "    </tr>\n",
       "    <tr>\n",
       "      <th>914480</th>\n",
       "      <td>A rousing motion picture filled with well-chor...</td>\n",
       "      <td>POSITIVE</td>\n",
       "    </tr>\n",
       "    <tr>\n",
       "      <th>914481</th>\n",
       "      <td>Since it began shooting in June 2006, it's bee...</td>\n",
       "      <td>NEGATIVE</td>\n",
       "    </tr>\n",
       "    <tr>\n",
       "      <th>914482</th>\n",
       "      <td>One of the most enjoyable American films ever ...</td>\n",
       "      <td>POSITIVE</td>\n",
       "    </tr>\n",
       "  </tbody>\n",
       "</table>\n",
       "</div>"
      ],
      "text/plain": [
       "                                                     Text Sentiment\n",
       "914478  ...it provides full-on thrills, maybe exaggera...  POSITIVE\n",
       "914479  A sad, sordid tale of neorealist breath, oxyge...  POSITIVE\n",
       "914480  A rousing motion picture filled with well-chor...  POSITIVE\n",
       "914481  Since it began shooting in June 2006, it's bee...  NEGATIVE\n",
       "914482  One of the most enjoyable American films ever ...  POSITIVE"
      ]
     },
     "execution_count": 107,
     "metadata": {},
     "output_type": "execute_result"
    }
   ],
   "source": [
    "balanced_df.tail()"
   ]
  },
  {
   "cell_type": "code",
   "execution_count": 108,
   "id": "ded44cdb",
   "metadata": {},
   "outputs": [
    {
     "data": {
      "text/plain": [
       "<bound method DataFrame.info of                                                      Text Sentiment\n",
       "0       The film fades out but not before it's given u...  POSITIVE\n",
       "1       A well deserved Oscar nomination for Demian Bi...  POSITIVE\n",
       "2       There is sadness, but life continues. Death is...  POSITIVE\n",
       "3       Well structured and dynamically edited, Decept...  POSITIVE\n",
       "4       It really is an unfocused documentary that cou...  NEGATIVE\n",
       "...                                                   ...       ...\n",
       "914478  ...it provides full-on thrills, maybe exaggera...  POSITIVE\n",
       "914479  A sad, sordid tale of neorealist breath, oxyge...  POSITIVE\n",
       "914480  A rousing motion picture filled with well-chor...  POSITIVE\n",
       "914481  Since it began shooting in June 2006, it's bee...  NEGATIVE\n",
       "914482  One of the most enjoyable American films ever ...  POSITIVE\n",
       "\n",
       "[914483 rows x 2 columns]>"
      ]
     },
     "execution_count": 108,
     "metadata": {},
     "output_type": "execute_result"
    }
   ],
   "source": [
    "balanced_df.info"
   ]
  },
  {
   "cell_type": "code",
   "execution_count": 109,
   "id": "23e0ebf3",
   "metadata": {},
   "outputs": [
    {
     "data": {
      "text/plain": [
       "Sentiment\n",
       "POSITIVE    461255\n",
       "NEGATIVE    453228\n",
       "Name: count, dtype: int64"
      ]
     },
     "execution_count": 109,
     "metadata": {},
     "output_type": "execute_result"
    }
   ],
   "source": [
    "balanced_df[\"Sentiment\"].value_counts()"
   ]
  },
  {
   "cell_type": "code",
   "execution_count": 110,
   "id": "8af2ca3d",
   "metadata": {},
   "outputs": [],
   "source": [
    "# Therefore, data is now balanced!"
   ]
  },
  {
   "cell_type": "markdown",
   "id": "225f764c",
   "metadata": {},
   "source": [
    "3. Data Preprocessing"
   ]
  },
  {
   "cell_type": "markdown",
   "id": "d98d73e9",
   "metadata": {},
   "source": [
    "a. Label Encoding"
   ]
  },
  {
   "cell_type": "code",
   "execution_count": 111,
   "id": "15cb355a",
   "metadata": {},
   "outputs": [],
   "source": [
    "from sklearn.preprocessing import LabelEncoder\n",
    "encoder = LabelEncoder()\n",
    "balanced_df[\"Sentiment\"] = encoder.fit_transform(balanced_df[\"Sentiment\"])"
   ]
  },
  {
   "cell_type": "code",
   "execution_count": 112,
   "id": "8908606f",
   "metadata": {},
   "outputs": [
    {
     "data": {
      "text/html": [
       "<div>\n",
       "<style scoped>\n",
       "    .dataframe tbody tr th:only-of-type {\n",
       "        vertical-align: middle;\n",
       "    }\n",
       "\n",
       "    .dataframe tbody tr th {\n",
       "        vertical-align: top;\n",
       "    }\n",
       "\n",
       "    .dataframe thead th {\n",
       "        text-align: right;\n",
       "    }\n",
       "</style>\n",
       "<table border=\"1\" class=\"dataframe\">\n",
       "  <thead>\n",
       "    <tr style=\"text-align: right;\">\n",
       "      <th></th>\n",
       "      <th>Text</th>\n",
       "      <th>Sentiment</th>\n",
       "    </tr>\n",
       "  </thead>\n",
       "  <tbody>\n",
       "    <tr>\n",
       "      <th>0</th>\n",
       "      <td>The film fades out but not before it's given u...</td>\n",
       "      <td>1</td>\n",
       "    </tr>\n",
       "    <tr>\n",
       "      <th>1</th>\n",
       "      <td>A well deserved Oscar nomination for Demian Bi...</td>\n",
       "      <td>1</td>\n",
       "    </tr>\n",
       "    <tr>\n",
       "      <th>2</th>\n",
       "      <td>There is sadness, but life continues. Death is...</td>\n",
       "      <td>1</td>\n",
       "    </tr>\n",
       "    <tr>\n",
       "      <th>3</th>\n",
       "      <td>Well structured and dynamically edited, Decept...</td>\n",
       "      <td>1</td>\n",
       "    </tr>\n",
       "    <tr>\n",
       "      <th>4</th>\n",
       "      <td>It really is an unfocused documentary that cou...</td>\n",
       "      <td>0</td>\n",
       "    </tr>\n",
       "  </tbody>\n",
       "</table>\n",
       "</div>"
      ],
      "text/plain": [
       "                                                Text  Sentiment\n",
       "0  The film fades out but not before it's given u...          1\n",
       "1  A well deserved Oscar nomination for Demian Bi...          1\n",
       "2  There is sadness, but life continues. Death is...          1\n",
       "3  Well structured and dynamically edited, Decept...          1\n",
       "4  It really is an unfocused documentary that cou...          0"
      ]
     },
     "execution_count": 112,
     "metadata": {},
     "output_type": "execute_result"
    }
   ],
   "source": [
    "balanced_df.head()"
   ]
  },
  {
   "cell_type": "code",
   "execution_count": 113,
   "id": "1f92e256",
   "metadata": {},
   "outputs": [],
   "source": [
    "# Therefore, 0 is Negative, and 1 is Positive!"
   ]
  },
  {
   "cell_type": "markdown",
   "id": "1b631ee5",
   "metadata": {},
   "source": [
    "b. Tokenization/Vectorization"
   ]
  },
  {
   "cell_type": "code",
   "execution_count": 114,
   "id": "efb85dfb",
   "metadata": {},
   "outputs": [],
   "source": [
    "x = balanced_df[\"Text\"]"
   ]
  },
  {
   "cell_type": "code",
   "execution_count": 115,
   "id": "4ebed0bd",
   "metadata": {},
   "outputs": [
    {
     "data": {
      "text/plain": [
       "'2.19.0'"
      ]
     },
     "execution_count": 115,
     "metadata": {},
     "output_type": "execute_result"
    }
   ],
   "source": [
    "tensorflow.__version__"
   ]
  },
  {
   "cell_type": "code",
   "execution_count": 116,
   "id": "07a1aae2",
   "metadata": {},
   "outputs": [],
   "source": [
    "from tensorflow.keras.layers import TextVectorization"
   ]
  },
  {
   "cell_type": "code",
   "execution_count": 117,
   "id": "9893482c",
   "metadata": {},
   "outputs": [],
   "source": [
    "# Parameters\n",
    "vocab_size = 10000\n",
    "max_len = 40"
   ]
  },
  {
   "cell_type": "code",
   "execution_count": 118,
   "id": "f8957275",
   "metadata": {},
   "outputs": [],
   "source": [
    "vectorizer = TextVectorization(\n",
    "    max_tokens = vocab_size,\n",
    "    output_mode = 'int',\n",
    "    output_sequence_length = max_len\n",
    ")"
   ]
  },
  {
   "cell_type": "code",
   "execution_count": 119,
   "id": "c858924e",
   "metadata": {},
   "outputs": [],
   "source": [
    "texts = balanced_df['Text'].astype(str)\n",
    "texts_tf = tensorflow.data.Dataset.from_tensor_slices(texts).batch(32)\n",
    "vectorizer.adapt(texts_tf)"
   ]
  },
  {
   "cell_type": "code",
   "execution_count": 120,
   "id": "faf69ebf",
   "metadata": {},
   "outputs": [],
   "source": [
    "vectorized_text = vectorizer(texts)"
   ]
  },
  {
   "cell_type": "code",
   "execution_count": 121,
   "id": "f0bd2a5f",
   "metadata": {},
   "outputs": [],
   "source": [
    "# Therefore, preprocessing is finally done!"
   ]
  },
  {
   "cell_type": "markdown",
   "id": "34d7bb5d",
   "metadata": {},
   "source": [
    "4. Split data into train, test and validation sets"
   ]
  },
  {
   "cell_type": "code",
   "execution_count": 122,
   "id": "018787cd",
   "metadata": {},
   "outputs": [],
   "source": [
    "from sklearn.model_selection import train_test_split"
   ]
  },
  {
   "cell_type": "code",
   "execution_count": 123,
   "id": "84713804",
   "metadata": {},
   "outputs": [],
   "source": [
    "# Splitting into input and output\n",
    "x = balanced_df[\"Text\"]\n",
    "y = balanced_df[\"Sentiment\"]"
   ]
  },
  {
   "cell_type": "code",
   "execution_count": 124,
   "id": "324222af",
   "metadata": {},
   "outputs": [],
   "source": [
    "# Splitting into train and the rest\n",
    "x_train, x_rest, y_train, y_rest = train_test_split(x, y, test_size=0.3, random_state=42, stratify=y)"
   ]
  },
  {
   "cell_type": "code",
   "execution_count": 125,
   "id": "f60b4d24",
   "metadata": {},
   "outputs": [],
   "source": [
    "# Splitting the rest of the data into test and validation\n",
    "x_val, x_test, y_val, y_test = train_test_split(x_rest, y_rest, test_size=0.5, random_state=42, stratify=y_rest)"
   ]
  },
  {
   "cell_type": "code",
   "execution_count": 126,
   "id": "dbe6f550",
   "metadata": {},
   "outputs": [],
   "source": [
    "x_train = vectorizer(x_train)\n",
    "x_val = vectorizer(x_val)\n",
    "x_test = vectorizer(x_test)"
   ]
  },
  {
   "cell_type": "code",
   "execution_count": 137,
   "id": "9c4c0012",
   "metadata": {},
   "outputs": [
    {
     "data": {
      "text/plain": [
       "<tf.Tensor: shape=(640138, 40), dtype=int64, numpy=\n",
       "array([[   1,  942, 5287, ...,    0,    0,    0],\n",
       "       [1445,    1,  414, ...,    0,    0,    0],\n",
       "       [ 344,    5,    2, ...,   25,    3, 7088],\n",
       "       ...,\n",
       "       [2455,   40,   25, ...,    0,    0,    0],\n",
       "       [3572, 8973,    0, ...,    0,    0,    0],\n",
       "       [   2,  376,  127, ...,    0,    0,    0]])>"
      ]
     },
     "execution_count": 137,
     "metadata": {},
     "output_type": "execute_result"
    }
   ],
   "source": [
    "x_train"
   ]
  },
  {
   "cell_type": "code",
   "execution_count": 127,
   "id": "34e93e6d",
   "metadata": {},
   "outputs": [],
   "source": [
    "# Splitting done succesfully!"
   ]
  },
  {
   "cell_type": "markdown",
   "id": "64fc47a0",
   "metadata": {},
   "source": [
    "5. Building The Model Architecture"
   ]
  },
  {
   "cell_type": "code",
   "execution_count": 128,
   "id": "da16d55a",
   "metadata": {},
   "outputs": [],
   "source": [
    "# We are using LSTM"
   ]
  },
  {
   "cell_type": "code",
   "execution_count": 129,
   "id": "c770588c",
   "metadata": {},
   "outputs": [],
   "source": [
    "from tensorflow.keras import Sequential\n",
    "from tensorflow.keras.layers import Embedding, LSTM, Dense\n",
    "from tensorflow.keras.layers import Conv1D, MaxPooling1D"
   ]
  },
  {
   "cell_type": "code",
   "execution_count": 130,
   "id": "69da42ad",
   "metadata": {},
   "outputs": [],
   "source": [
    "model = Sequential([\n",
    "    Embedding(input_dim=10000, output_dim=128),\n",
    "    LSTM(64),\n",
    "    Dense(1, activation='sigmoid')\n",
    "])"
   ]
  },
  {
   "cell_type": "markdown",
   "id": "e0924a2a",
   "metadata": {},
   "source": [
    "6. Compiling the model"
   ]
  },
  {
   "cell_type": "code",
   "execution_count": 131,
   "id": "1f8de3a2",
   "metadata": {},
   "outputs": [],
   "source": [
    "model.compile(\n",
    "    loss = 'binary_crossentropy',\n",
    "    optimizer = 'adam',\n",
    "    metrics = ['accuracy']\n",
    ")"
   ]
  },
  {
   "cell_type": "code",
   "execution_count": 132,
   "id": "89dc4bdc",
   "metadata": {},
   "outputs": [],
   "source": [
    "# Checking a few things before training"
   ]
  },
  {
   "cell_type": "code",
   "execution_count": 133,
   "id": "f4551b2c",
   "metadata": {},
   "outputs": [
    {
     "name": "stdout",
     "output_type": "stream",
     "text": [
      "445824    1\n",
      "725975    0\n",
      "886399    1\n",
      "792109    0\n",
      "386002    1\n",
      "386441    1\n",
      "678146    1\n",
      "908621    0\n",
      "543799    0\n",
      "647215    0\n",
      "Name: Sentiment, dtype: int64\n"
     ]
    }
   ],
   "source": [
    "print(y_val[:10])"
   ]
  },
  {
   "cell_type": "code",
   "execution_count": 134,
   "id": "4571fa08",
   "metadata": {},
   "outputs": [
    {
     "name": "stdout",
     "output_type": "stream",
     "text": [
      "{0, 1}\n"
     ]
    }
   ],
   "source": [
    "print(set(y_val))"
   ]
  },
  {
   "cell_type": "code",
   "execution_count": 135,
   "id": "25a62f0a",
   "metadata": {},
   "outputs": [
    {
     "name": "stdout",
     "output_type": "stream",
     "text": [
      "(137172, 40)\n"
     ]
    }
   ],
   "source": [
    "print(x_val.shape)"
   ]
  },
  {
   "cell_type": "markdown",
   "id": "da9c0ca5",
   "metadata": {},
   "source": [
    "7. Training The Model"
   ]
  },
  {
   "cell_type": "code",
   "execution_count": null,
   "id": "9ce6074c",
   "metadata": {},
   "outputs": [
    {
     "name": "stdout",
     "output_type": "stream",
     "text": [
      "Epoch 1/10\n",
      "\u001b[1m20278/20278\u001b[0m \u001b[32m━━━━━━━━━━━━━━━━━━━━\u001b[0m\u001b[37m\u001b[0m \u001b[1m518s\u001b[0m 25ms/step - accuracy: 0.7800 - loss: 0.4495 - val_accuracy: 0.8422 - val_loss: 0.3533\n",
      "Epoch 2/10\n",
      "\u001b[1m20278/20278\u001b[0m \u001b[32m━━━━━━━━━━━━━━━━━━━━\u001b[0m\u001b[37m\u001b[0m \u001b[1m617s\u001b[0m 30ms/step - accuracy: 0.8552 - loss: 0.3296 - val_accuracy: 0.8484 - val_loss: 0.3428\n",
      "Epoch 3/10\n",
      "\u001b[1m20278/20278\u001b[0m \u001b[32m━━━━━━━━━━━━━━━━━━━━\u001b[0m\u001b[37m\u001b[0m \u001b[1m575s\u001b[0m 28ms/step - accuracy: 0.8741 - loss: 0.2942 - val_accuracy: 0.8516 - val_loss: 0.3405\n",
      "Epoch 4/10\n",
      "\u001b[1m20278/20278\u001b[0m \u001b[32m━━━━━━━━━━━━━━━━━━━━\u001b[0m\u001b[37m\u001b[0m \u001b[1m441s\u001b[0m 22ms/step - accuracy: 0.8900 - loss: 0.2619 - val_accuracy: 0.8489 - val_loss: 0.3464\n",
      "Epoch 5/10\n",
      "\u001b[1m20278/20278\u001b[0m \u001b[32m━━━━━━━━━━━━━━━━━━━━\u001b[0m\u001b[37m\u001b[0m \u001b[1m767s\u001b[0m 38ms/step - accuracy: 0.9056 - loss: 0.2304 - val_accuracy: 0.8464 - val_loss: 0.3675\n",
      "Epoch 6/10\n",
      "\u001b[1m20278/20278\u001b[0m \u001b[32m━━━━━━━━━━━━━━━━━━━━\u001b[0m\u001b[37m\u001b[0m \u001b[1m799s\u001b[0m 39ms/step - accuracy: 0.9185 - loss: 0.2027 - val_accuracy: 0.8439 - val_loss: 0.3921\n",
      "Epoch 7/10\n",
      "\u001b[1m20278/20278\u001b[0m \u001b[32m━━━━━━━━━━━━━━━━━━━━\u001b[0m\u001b[37m\u001b[0m \u001b[1m1029s\u001b[0m 51ms/step - accuracy: 0.9304 - loss: 0.1758 - val_accuracy: 0.8389 - val_loss: 0.4189\n",
      "Epoch 8/10\n",
      "\u001b[1m20278/20278\u001b[0m \u001b[32m━━━━━━━━━━━━━━━━━━━━\u001b[0m\u001b[37m\u001b[0m \u001b[1m549s\u001b[0m 27ms/step - accuracy: 0.9402 - loss: 0.1546 - val_accuracy: 0.8369 - val_loss: 0.4585\n",
      "Epoch 9/10\n",
      "\u001b[1m20278/20278\u001b[0m \u001b[32m━━━━━━━━━━━━━━━━━━━━\u001b[0m\u001b[37m\u001b[0m \u001b[1m1035s\u001b[0m 51ms/step - accuracy: 0.9486 - loss: 0.1346 - val_accuracy: 0.8327 - val_loss: 0.4741\n",
      "Epoch 10/10\n",
      "\u001b[1m20278/20278\u001b[0m \u001b[32m━━━━━━━━━━━━━━━━━━━━\u001b[0m\u001b[37m\u001b[0m \u001b[1m466s\u001b[0m 23ms/step - accuracy: 0.9542 - loss: 0.1208 - val_accuracy: 0.8323 - val_loss: 0.5170\n"
     ]
    }
   ],
   "source": [
    "history = model.fit(\n",
    "    x_train,\n",
    "    y_train,\n",
    "    epochs = 10,\n",
    "    batch_size = 32,\n",
    "    validation_data = (x_val, y_val)\n",
    ")"
   ]
  },
  {
   "cell_type": "markdown",
   "id": "9a80753d",
   "metadata": {},
   "source": [
    "8. Evaluating the model on validation data"
   ]
  },
  {
   "cell_type": "code",
   "execution_count": null,
   "id": "b5c8cbed",
   "metadata": {},
   "outputs": [
    {
     "name": "stdout",
     "output_type": "stream",
     "text": [
      "\u001b[1m4346/4346\u001b[0m \u001b[32m━━━━━━━━━━━━━━━━━━━━\u001b[0m\u001b[37m\u001b[0m \u001b[1m21s\u001b[0m 5ms/step - accuracy: 0.8331 - loss: 0.5150\n",
      "0.517019510269165\n",
      "0.8322581648826599\n"
     ]
    }
   ],
   "source": [
    "loss, accuracy = model.evaluate(x_val, y_val)\n",
    "print(loss)\n",
    "print(accuracy)"
   ]
  },
  {
   "cell_type": "code",
   "execution_count": null,
   "id": "126a8d77",
   "metadata": {},
   "outputs": [
    {
     "data": {
      "image/png": "[encoded data removed]",
      "text/plain": [
       "<Figure size 640x480 with 1 Axes>"
      ]
     },
     "metadata": {},
     "output_type": "display_data"
    },
    {
     "data": {
      "image/png": "[encoded data removed]",
      "text/plain": [
       "<Figure size 640x480 with 1 Axes>"
      ]
     },
     "metadata": {},
     "output_type": "display_data"
    }
   ],
   "source": [
    "import matplotlib.pyplot as plt\n",
    "\n",
    "# Accuracy\n",
    "plt.plot(history.history['accuracy'], label='Train Acc')\n",
    "plt.plot(history.history['val_accuracy'], label='Val Acc')\n",
    "plt.legend()\n",
    "plt.title('Accuracy over Epochs')\n",
    "plt.show()\n",
    "\n",
    "# Loss\n",
    "plt.plot(history.history['loss'], label='Train Loss')\n",
    "plt.plot(history.history['val_loss'], label='Val Loss')\n",
    "plt.legend()\n",
    "plt.title('Loss over Epochs')\n",
    "plt.show()"
   ]
  },
  {
   "cell_type": "code",
   "execution_count": null,
   "id": "a46dc85f",
   "metadata": {},
   "outputs": [],
   "source": [
    "keras.saving.save_model(model, 'Sentiment_Analysis.keras')"
   ]
  },
  {
   "cell_type": "code",
   "execution_count": null,
   "id": "ae42513e",
   "metadata": {},
   "outputs": [
    {
     "name": "stderr",
     "output_type": "stream",
     "text": [
      "WARNING:absl:You are saving your model as an HDF5 file via `model.save()` or `keras.saving.save_model(model)`. This file format is considered legacy. We recommend using instead the native Keras format, e.g. `model.save('my_model.keras')` or `keras.saving.save_model(model, 'my_model.keras')`. \n"
     ]
    }
   ],
   "source": [
    "model.save(\"Sentiment_Analysis_2.h5\")"
   ]
  },
  {
   "cell_type": "markdown",
   "id": "f86a5b46",
   "metadata": {},
   "source": [
    "9. Tuning Hyperparameters"
   ]
  },
  {
   "cell_type": "code",
   "execution_count": 138,
   "id": "31d9a20f",
   "metadata": {},
   "outputs": [],
   "source": [
    "# After evaluating the model, we can confirm that the model is overfitting. We need to tune the hyperparameters to make it better"
   ]
  },
  {
   "cell_type": "code",
   "execution_count": 139,
   "id": "1a0fcccd",
   "metadata": {},
   "outputs": [],
   "source": [
    "# Building the model architecture again"
   ]
  },
  {
   "cell_type": "code",
   "execution_count": 140,
   "id": "02f93a18",
   "metadata": {},
   "outputs": [],
   "source": [
    "from tensorflow.keras.callbacks import EarlyStopping\n",
    "from tensorflow.keras.layers import Dropout\n",
    "from tensorflow.keras import regularizers"
   ]
  },
  {
   "cell_type": "code",
   "execution_count": 141,
   "id": "eee9d487",
   "metadata": {},
   "outputs": [],
   "source": [
    "model = Sequential([\n",
    "    Embedding(input_dim=10000, output_dim=128),\n",
    "    Conv1D(64, kernel_size=5, activation='relu'),\n",
    "    MaxPooling1D(pool_size=2),\n",
    "    LSTM(64, kernel_regularizer=regularizers.l2, activation='relu'),\n",
    "    Dense(1, activation='sigmoid', kernel_regularizer=regularizers.l2(0.01))\n",
    "])"
   ]
  },
  {
   "cell_type": "code",
   "execution_count": 142,
   "id": "f2856fb7",
   "metadata": {},
   "outputs": [],
   "source": [
    "# Compiling the model"
   ]
  },
  {
   "cell_type": "code",
   "execution_count": 143,
   "id": "4a29e30a",
   "metadata": {},
   "outputs": [],
   "source": [
    "model.compile(\n",
    "    loss = 'binary_crossentropy',\n",
    "    optimizer = 'adam',\n",
    "    metrics = ['accuracy']\n",
    ")"
   ]
  },
  {
   "cell_type": "code",
   "execution_count": 144,
   "id": "93aa62a7",
   "metadata": {},
   "outputs": [],
   "source": [
    "# Adding early stopping"
   ]
  },
  {
   "cell_type": "code",
   "execution_count": 145,
   "id": "9287b786",
   "metadata": {},
   "outputs": [],
   "source": [
    "early_stopping = EarlyStopping(\n",
    "    monitor = 'val_loss',\n",
    "    patience = 2,\n",
    "    restore_best_weights=True\n",
    ")"
   ]
  },
  {
   "cell_type": "code",
   "execution_count": 146,
   "id": "d9019b1c",
   "metadata": {},
   "outputs": [],
   "source": [
    "# Training the model again"
   ]
  },
  {
   "cell_type": "code",
   "execution_count": 147,
   "id": "26a3c8e5",
   "metadata": {},
   "outputs": [
    {
     "name": "stdout",
     "output_type": "stream",
     "text": [
      "Epoch 1/10\n",
      "\u001b[1m20005/20005\u001b[0m \u001b[32m━━━━━━━━━━━━━━━━━━━━\u001b[0m\u001b[37m\u001b[0m \u001b[1m354s\u001b[0m 18ms/step - accuracy: 0.7659 - loss: 0.4882 - val_accuracy: 0.8357 - val_loss: 0.3737\n",
      "Epoch 2/10\n",
      "\u001b[1m20005/20005\u001b[0m \u001b[32m━━━━━━━━━━━━━━━━━━━━\u001b[0m\u001b[37m\u001b[0m \u001b[1m393s\u001b[0m 20ms/step - accuracy: 0.8483 - loss: 0.3520 - val_accuracy: 0.8425 - val_loss: 0.3633\n",
      "Epoch 3/10\n",
      "\u001b[1m20005/20005\u001b[0m \u001b[32m━━━━━━━━━━━━━━━━━━━━\u001b[0m\u001b[37m\u001b[0m \u001b[1m390s\u001b[0m 19ms/step - accuracy: 0.8674 - loss: 0.3181 - val_accuracy: 0.8422 - val_loss: 0.3661\n",
      "Epoch 4/10\n",
      "\u001b[1m20005/20005\u001b[0m \u001b[32m━━━━━━━━━━━━━━━━━━━━\u001b[0m\u001b[37m\u001b[0m \u001b[1m370s\u001b[0m 18ms/step - accuracy: 0.8828 - loss: 0.2891 - val_accuracy: 0.8415 - val_loss: 0.3778\n"
     ]
    }
   ],
   "source": [
    "history = model.fit(\n",
    "    x_train,\n",
    "    y_train,\n",
    "    epochs = 10,\n",
    "    batch_size = 32,\n",
    "    validation_data = (x_val, y_val),\n",
    "    callbacks = [early_stopping]\n",
    ")"
   ]
  },
  {
   "cell_type": "markdown",
   "id": "2f48ddbd",
   "metadata": {},
   "source": [
    "10. Testing"
   ]
  },
  {
   "cell_type": "code",
   "execution_count": 157,
   "id": "867df552",
   "metadata": {},
   "outputs": [
    {
     "name": "stdout",
     "output_type": "stream",
     "text": [
      "\u001b[1m4287/4287\u001b[0m \u001b[32m━━━━━━━━━━━━━━━━━━━━\u001b[0m\u001b[37m\u001b[0m \u001b[1m51s\u001b[0m 12ms/step\n",
      "[[0.60435236]\n",
      " [0.00787964]\n",
      " [0.6335838 ]\n",
      " [0.09666335]\n",
      " [0.2947789 ]]\n",
      "[[1]\n",
      " [0]\n",
      " [1]\n",
      " [0]\n",
      " [0]]\n"
     ]
    }
   ],
   "source": [
    "predictions = model.predict(x_test)\n",
    "predicted_classes = (predictions > 0.5).astype(int)\n",
    "print(predictions[:5])\n",
    "print(predicted_classes[:5])"
   ]
  },
  {
   "cell_type": "markdown",
   "id": "83ff34d0",
   "metadata": {},
   "source": [
    "11. Final Evaluation"
   ]
  },
  {
   "cell_type": "code",
   "execution_count": 148,
   "id": "bd9849d2",
   "metadata": {},
   "outputs": [
    {
     "name": "stdout",
     "output_type": "stream",
     "text": [
      "\u001b[1m4287/4287\u001b[0m \u001b[32m━━━━━━━━━━━━━━━━━━━━\u001b[0m\u001b[37m\u001b[0m \u001b[1m17s\u001b[0m 4ms/step - accuracy: 0.8432 - loss: 0.3629\n",
      "0.363302618265152\n",
      "0.842460572719574\n"
     ]
    }
   ],
   "source": [
    "loss, accuracy = model.evaluate(x_val, y_val)\n",
    "print(loss)\n",
    "print(accuracy)"
   ]
  },
  {
   "cell_type": "code",
   "execution_count": 155,
   "id": "defd4129",
   "metadata": {},
   "outputs": [
    {
     "name": "stdout",
     "output_type": "stream",
     "text": [
      "\u001b[1m4287/4287\u001b[0m \u001b[32m━━━━━━━━━━━━━━━━━━━━\u001b[0m\u001b[37m\u001b[0m \u001b[1m36s\u001b[0m 8ms/step - accuracy: 0.8391 - loss: 0.3680\n",
      "Test Loss: 0.36455589532852173\n",
      "Test Accuracy: 0.8408360481262207\n"
     ]
    }
   ],
   "source": [
    "loss, accuracy = model.evaluate(x_test, y_test)\n",
    "print(f\"Test Loss: {loss}\")\n",
    "print(f\"Test Accuracy: {accuracy}\")"
   ]
  },
  {
   "cell_type": "code",
   "execution_count": 152,
   "id": "6c6677c2",
   "metadata": {},
   "outputs": [
    {
     "data": {
      "image/png": "[encoded data removed]",
      "text/plain": [
       "<Figure size 640x480 with 1 Axes>"
      ]
     },
     "metadata": {},
     "output_type": "display_data"
    },
    {
     "data": {
      "image/png": "[encoded data removed]",
      "text/plain": [
       "<Figure size 640x480 with 1 Axes>"
      ]
     },
     "metadata": {},
     "output_type": "display_data"
    }
   ],
   "source": [
    "import matplotlib.pyplot as plt\n",
    "\n",
    "# Accuracy\n",
    "plt.plot(history.history['accuracy'], label='Train Acc')\n",
    "plt.plot(history.history['val_accuracy'], label='Val Acc')\n",
    "plt.legend()\n",
    "plt.title('Accuracy over Epochs')\n",
    "plt.show()\n",
    "\n",
    "# Loss\n",
    "plt.plot(history.history['loss'], label='Train Loss')\n",
    "plt.plot(history.history['val_loss'], label='Val Loss')\n",
    "plt.legend()\n",
    "plt.title('Loss over Epochs')\n",
    "plt.show()"
   ]
  },
  {
   "cell_type": "code",
   "execution_count": 158,
   "id": "8cb94348",
   "metadata": {},
   "outputs": [],
   "source": [
    "# Confusion Matrix, precision and recall\n",
    "from sklearn.metrics import confusion_matrix, classification_report"
   ]
  },
  {
   "cell_type": "code",
   "execution_count": 159,
   "id": "0a77b0a7",
   "metadata": {},
   "outputs": [
    {
     "name": "stdout",
     "output_type": "stream",
     "text": [
      "\u001b[1m4287/4287\u001b[0m \u001b[32m━━━━━━━━━━━━━━━━━━━━\u001b[0m\u001b[37m\u001b[0m \u001b[1m24s\u001b[0m 6ms/step\n",
      "Confusion Matrix:\n",
      " [[57700 10284]\n",
      " [11549 57640]]\n"
     ]
    }
   ],
   "source": [
    "y_pred = (model.predict(x_test)>0.5).astype(int).flatten()\n",
    "cm = confusion_matrix(y_test, y_pred)\n",
    "print(\"Confusion Matrix:\\n\", cm)"
   ]
  },
  {
   "cell_type": "code",
   "execution_count": 160,
   "id": "73ae6c75",
   "metadata": {},
   "outputs": [
    {
     "name": "stdout",
     "output_type": "stream",
     "text": [
      "Classification Report:\n",
      "               precision    recall  f1-score   support\n",
      "\n",
      "           0       0.83      0.85      0.84     67984\n",
      "           1       0.85      0.83      0.84     69189\n",
      "\n",
      "    accuracy                           0.84    137173\n",
      "   macro avg       0.84      0.84      0.84    137173\n",
      "weighted avg       0.84      0.84      0.84    137173\n",
      "\n"
     ]
    }
   ],
   "source": [
    "print(\"Classification Report:\\n\", classification_report(y_test, y_pred))"
   ]
  },
  {
   "cell_type": "markdown",
   "id": "a8a38cf3",
   "metadata": {},
   "source": [
    "12. Saving The Model"
   ]
  },
  {
   "cell_type": "code",
   "execution_count": 150,
   "id": "6e222bff",
   "metadata": {},
   "outputs": [],
   "source": [
    "keras.saving.save_model(model, 'Final_Model_Keras.keras')"
   ]
  },
  {
   "cell_type": "code",
   "execution_count": 151,
   "id": "7b65ad85",
   "metadata": {},
   "outputs": [
    {
     "name": "stderr",
     "output_type": "stream",
     "text": [
      "WARNING:absl:You are saving your model as an HDF5 file via `model.save()` or `keras.saving.save_model(model)`. This file format is considered legacy. We recommend using instead the native Keras format, e.g. `model.save('my_model.keras')` or `keras.saving.save_model(model, 'my_model.keras')`. \n"
     ]
    }
   ],
   "source": [
    "model.save('Final_Model_H5.h5')"
   ]
  }
 ],
 "metadata": {
  "kernelspec": {
   "display_name": "Python 3",
   "language": "python",
   "name": "python3"
  },
  "language_info": {
   "codemirror_mode": {
    "name": "ipython",
    "version": 3
   },
   "file_extension": ".py",
   "mimetype": "text/x-python",
   "name": "python",
   "nbconvert_exporter": "python",
   "pygments_lexer": "ipython3",
   "version": "3.10.0"
  }
 },
 "nbformat": 4,
 "nbformat_minor": 5
}
