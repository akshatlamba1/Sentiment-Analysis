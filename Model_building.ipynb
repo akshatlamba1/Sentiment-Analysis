{
 "cells": [
  {
   "cell_type": "markdown",
   "id": "2d8abae4",
   "metadata": {},
   "source": [
    "5. Building The Model Architecture"
   ]
  },
  {
   "cell_type": "code",
   "execution_count": 1,
   "id": "2eb94c16",
   "metadata": {},
   "outputs": [],
   "source": [
    "# We are using LSTM"
   ]
  },
  {
   "cell_type": "code",
   "execution_count": 4,
   "id": "abf6aa45",
   "metadata": {},
   "outputs": [],
   "source": [
    "import tensorflow"
   ]
  },
  {
   "cell_type": "code",
   "execution_count": 5,
   "id": "0aa054ee",
   "metadata": {},
   "outputs": [],
   "source": [
    "from tensorflow.keras import Sequential\n",
    "from tensorflow.keras.layers import Embedding, LSTM, Dense"
   ]
  },
  {
   "cell_type": "code",
   "execution_count": 6,
   "id": "a6b9ba18",
   "metadata": {},
   "outputs": [],
   "source": [
    "model = Sequential([\n",
    "    Embedding(input_dim=10000, output_dim=128),\n",
    "    LSTM(64),\n",
    "    Dense(1, activation='sigmoid')\n",
    "])"
   ]
  },
  {
   "cell_type": "code",
   "execution_count": null,
   "id": "18a888f6",
   "metadata": {},
   "outputs": [],
   "source": []
  }
 ],
 "metadata": {
  "kernelspec": {
   "display_name": "Python 3",
   "language": "python",
   "name": "python3"
  },
  "language_info": {
   "codemirror_mode": {
    "name": "ipython",
    "version": 3
   },
   "file_extension": ".py",
   "mimetype": "text/x-python",
   "name": "python",
   "nbconvert_exporter": "python",
   "pygments_lexer": "ipython3",
   "version": "3.10.0"
  }
 },
 "nbformat": 4,
 "nbformat_minor": 5
}
